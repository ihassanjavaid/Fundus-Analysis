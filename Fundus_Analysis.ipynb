{
  "nbformat": 4,
  "nbformat_minor": 0,
  "metadata": {
    "colab": {
      "name": "Fundus Analysis.ipynb",
      "provenance": [],
      "authorship_tag": "ABX9TyNEfFNgs/MMriBVkRkfkUTD",
      "include_colab_link": true
    },
    "kernelspec": {
      "name": "python3",
      "display_name": "Python 3"
    },
    "language_info": {
      "name": "python"
    },
    "accelerator": "GPU",
    "widgets": {
      "application/vnd.jupyter.widget-state+json": {
        "b5870eb493a340caae0e17f31049d43f": {
          "model_module": "@jupyter-widgets/controls",
          "model_name": "HBoxModel",
          "state": {
            "_view_name": "HBoxView",
            "_dom_classes": [],
            "_model_name": "HBoxModel",
            "_view_module": "@jupyter-widgets/controls",
            "_model_module_version": "1.5.0",
            "_view_count": null,
            "_view_module_version": "1.5.0",
            "box_style": "",
            "layout": "IPY_MODEL_9108a77c82f74bc9830fec7c11241c04",
            "_model_module": "@jupyter-widgets/controls",
            "children": [
              "IPY_MODEL_c4270e61e19e4f25938845e85ab5e081",
              "IPY_MODEL_4db4286920e44137b0d8ccb876ece4e4"
            ]
          }
        },
        "9108a77c82f74bc9830fec7c11241c04": {
          "model_module": "@jupyter-widgets/base",
          "model_name": "LayoutModel",
          "state": {
            "_view_name": "LayoutView",
            "grid_template_rows": null,
            "right": null,
            "justify_content": null,
            "_view_module": "@jupyter-widgets/base",
            "overflow": null,
            "_model_module_version": "1.2.0",
            "_view_count": null,
            "flex_flow": null,
            "width": null,
            "min_width": null,
            "border": null,
            "align_items": null,
            "bottom": null,
            "_model_module": "@jupyter-widgets/base",
            "top": null,
            "grid_column": null,
            "overflow_y": null,
            "overflow_x": null,
            "grid_auto_flow": null,
            "grid_area": null,
            "grid_template_columns": null,
            "flex": null,
            "_model_name": "LayoutModel",
            "justify_items": null,
            "grid_row": null,
            "max_height": null,
            "align_content": null,
            "visibility": null,
            "align_self": null,
            "height": null,
            "min_height": null,
            "padding": null,
            "grid_auto_rows": null,
            "grid_gap": null,
            "max_width": null,
            "order": null,
            "_view_module_version": "1.2.0",
            "grid_template_areas": null,
            "object_position": null,
            "object_fit": null,
            "grid_auto_columns": null,
            "margin": null,
            "display": null,
            "left": null
          }
        },
        "c4270e61e19e4f25938845e85ab5e081": {
          "model_module": "@jupyter-widgets/controls",
          "model_name": "FloatProgressModel",
          "state": {
            "_view_name": "ProgressView",
            "style": "IPY_MODEL_3e885816210e4a3aa4423717900f8ae2",
            "_dom_classes": [],
            "description": "100%",
            "_model_name": "FloatProgressModel",
            "bar_style": "success",
            "max": 7000,
            "_view_module": "@jupyter-widgets/controls",
            "_model_module_version": "1.5.0",
            "value": 7000,
            "_view_count": null,
            "_view_module_version": "1.5.0",
            "orientation": "horizontal",
            "min": 0,
            "description_tooltip": null,
            "_model_module": "@jupyter-widgets/controls",
            "layout": "IPY_MODEL_14aa984c91274c7db37f27efa46e639a"
          }
        },
        "4db4286920e44137b0d8ccb876ece4e4": {
          "model_module": "@jupyter-widgets/controls",
          "model_name": "HTMLModel",
          "state": {
            "_view_name": "HTMLView",
            "style": "IPY_MODEL_471f9e5bf1294dff902f6bd413fcbbea",
            "_dom_classes": [],
            "description": "",
            "_model_name": "HTMLModel",
            "placeholder": "​",
            "_view_module": "@jupyter-widgets/controls",
            "_model_module_version": "1.5.0",
            "value": " 7000/7000 [15:08&lt;00:00,  7.71it/s]",
            "_view_count": null,
            "_view_module_version": "1.5.0",
            "description_tooltip": null,
            "_model_module": "@jupyter-widgets/controls",
            "layout": "IPY_MODEL_47ae37a9c8924cbfb77f0ab95f32196e"
          }
        },
        "3e885816210e4a3aa4423717900f8ae2": {
          "model_module": "@jupyter-widgets/controls",
          "model_name": "ProgressStyleModel",
          "state": {
            "_view_name": "StyleView",
            "_model_name": "ProgressStyleModel",
            "description_width": "initial",
            "_view_module": "@jupyter-widgets/base",
            "_model_module_version": "1.5.0",
            "_view_count": null,
            "_view_module_version": "1.2.0",
            "bar_color": null,
            "_model_module": "@jupyter-widgets/controls"
          }
        },
        "14aa984c91274c7db37f27efa46e639a": {
          "model_module": "@jupyter-widgets/base",
          "model_name": "LayoutModel",
          "state": {
            "_view_name": "LayoutView",
            "grid_template_rows": null,
            "right": null,
            "justify_content": null,
            "_view_module": "@jupyter-widgets/base",
            "overflow": null,
            "_model_module_version": "1.2.0",
            "_view_count": null,
            "flex_flow": null,
            "width": null,
            "min_width": null,
            "border": null,
            "align_items": null,
            "bottom": null,
            "_model_module": "@jupyter-widgets/base",
            "top": null,
            "grid_column": null,
            "overflow_y": null,
            "overflow_x": null,
            "grid_auto_flow": null,
            "grid_area": null,
            "grid_template_columns": null,
            "flex": null,
            "_model_name": "LayoutModel",
            "justify_items": null,
            "grid_row": null,
            "max_height": null,
            "align_content": null,
            "visibility": null,
            "align_self": null,
            "height": null,
            "min_height": null,
            "padding": null,
            "grid_auto_rows": null,
            "grid_gap": null,
            "max_width": null,
            "order": null,
            "_view_module_version": "1.2.0",
            "grid_template_areas": null,
            "object_position": null,
            "object_fit": null,
            "grid_auto_columns": null,
            "margin": null,
            "display": null,
            "left": null
          }
        },
        "471f9e5bf1294dff902f6bd413fcbbea": {
          "model_module": "@jupyter-widgets/controls",
          "model_name": "DescriptionStyleModel",
          "state": {
            "_view_name": "StyleView",
            "_model_name": "DescriptionStyleModel",
            "description_width": "",
            "_view_module": "@jupyter-widgets/base",
            "_model_module_version": "1.5.0",
            "_view_count": null,
            "_view_module_version": "1.2.0",
            "_model_module": "@jupyter-widgets/controls"
          }
        },
        "47ae37a9c8924cbfb77f0ab95f32196e": {
          "model_module": "@jupyter-widgets/base",
          "model_name": "LayoutModel",
          "state": {
            "_view_name": "LayoutView",
            "grid_template_rows": null,
            "right": null,
            "justify_content": null,
            "_view_module": "@jupyter-widgets/base",
            "overflow": null,
            "_model_module_version": "1.2.0",
            "_view_count": null,
            "flex_flow": null,
            "width": null,
            "min_width": null,
            "border": null,
            "align_items": null,
            "bottom": null,
            "_model_module": "@jupyter-widgets/base",
            "top": null,
            "grid_column": null,
            "overflow_y": null,
            "overflow_x": null,
            "grid_auto_flow": null,
            "grid_area": null,
            "grid_template_columns": null,
            "flex": null,
            "_model_name": "LayoutModel",
            "justify_items": null,
            "grid_row": null,
            "max_height": null,
            "align_content": null,
            "visibility": null,
            "align_self": null,
            "height": null,
            "min_height": null,
            "padding": null,
            "grid_auto_rows": null,
            "grid_gap": null,
            "max_width": null,
            "order": null,
            "_view_module_version": "1.2.0",
            "grid_template_areas": null,
            "object_position": null,
            "object_fit": null,
            "grid_auto_columns": null,
            "margin": null,
            "display": null,
            "left": null
          }
        },
        "f6433fa0dd8844f69a9af1f3de8718df": {
          "model_module": "@jupyter-widgets/controls",
          "model_name": "HBoxModel",
          "state": {
            "_view_name": "HBoxView",
            "_dom_classes": [],
            "_model_name": "HBoxModel",
            "_view_module": "@jupyter-widgets/controls",
            "_model_module_version": "1.5.0",
            "_view_count": null,
            "_view_module_version": "1.5.0",
            "box_style": "",
            "layout": "IPY_MODEL_92305bfb94cc46e8a426096f479ac2f1",
            "_model_module": "@jupyter-widgets/controls",
            "children": [
              "IPY_MODEL_a74fb7eac19b4d9280c3e3a151631ddb",
              "IPY_MODEL_93bad2ad2dd24680984538a0d4274ee4"
            ]
          }
        },
        "92305bfb94cc46e8a426096f479ac2f1": {
          "model_module": "@jupyter-widgets/base",
          "model_name": "LayoutModel",
          "state": {
            "_view_name": "LayoutView",
            "grid_template_rows": null,
            "right": null,
            "justify_content": null,
            "_view_module": "@jupyter-widgets/base",
            "overflow": null,
            "_model_module_version": "1.2.0",
            "_view_count": null,
            "flex_flow": null,
            "width": null,
            "min_width": null,
            "border": null,
            "align_items": null,
            "bottom": null,
            "_model_module": "@jupyter-widgets/base",
            "top": null,
            "grid_column": null,
            "overflow_y": null,
            "overflow_x": null,
            "grid_auto_flow": null,
            "grid_area": null,
            "grid_template_columns": null,
            "flex": null,
            "_model_name": "LayoutModel",
            "justify_items": null,
            "grid_row": null,
            "max_height": null,
            "align_content": null,
            "visibility": null,
            "align_self": null,
            "height": null,
            "min_height": null,
            "padding": null,
            "grid_auto_rows": null,
            "grid_gap": null,
            "max_width": null,
            "order": null,
            "_view_module_version": "1.2.0",
            "grid_template_areas": null,
            "object_position": null,
            "object_fit": null,
            "grid_auto_columns": null,
            "margin": null,
            "display": null,
            "left": null
          }
        },
        "a74fb7eac19b4d9280c3e3a151631ddb": {
          "model_module": "@jupyter-widgets/controls",
          "model_name": "FloatProgressModel",
          "state": {
            "_view_name": "ProgressView",
            "style": "IPY_MODEL_34b6c55287594be88e43e258524dc282",
            "_dom_classes": [],
            "description": "100%",
            "_model_name": "FloatProgressModel",
            "bar_style": "success",
            "max": 1000,
            "_view_module": "@jupyter-widgets/controls",
            "_model_module_version": "1.5.0",
            "value": 1000,
            "_view_count": null,
            "_view_module_version": "1.5.0",
            "orientation": "horizontal",
            "min": 0,
            "description_tooltip": null,
            "_model_module": "@jupyter-widgets/controls",
            "layout": "IPY_MODEL_aefbdf123966449fb18c3ade8c587b60"
          }
        },
        "93bad2ad2dd24680984538a0d4274ee4": {
          "model_module": "@jupyter-widgets/controls",
          "model_name": "HTMLModel",
          "state": {
            "_view_name": "HTMLView",
            "style": "IPY_MODEL_daa53db2884b4fbcb99dc12a38793eff",
            "_dom_classes": [],
            "description": "",
            "_model_name": "HTMLModel",
            "placeholder": "​",
            "_view_module": "@jupyter-widgets/controls",
            "_model_module_version": "1.5.0",
            "value": " 1000/1000 [00:19&lt;00:00, 52.29it/s]",
            "_view_count": null,
            "_view_module_version": "1.5.0",
            "description_tooltip": null,
            "_model_module": "@jupyter-widgets/controls",
            "layout": "IPY_MODEL_9d820cdd911547939dd6175eafc3b6dd"
          }
        },
        "34b6c55287594be88e43e258524dc282": {
          "model_module": "@jupyter-widgets/controls",
          "model_name": "ProgressStyleModel",
          "state": {
            "_view_name": "StyleView",
            "_model_name": "ProgressStyleModel",
            "description_width": "initial",
            "_view_module": "@jupyter-widgets/base",
            "_model_module_version": "1.5.0",
            "_view_count": null,
            "_view_module_version": "1.2.0",
            "bar_color": null,
            "_model_module": "@jupyter-widgets/controls"
          }
        },
        "aefbdf123966449fb18c3ade8c587b60": {
          "model_module": "@jupyter-widgets/base",
          "model_name": "LayoutModel",
          "state": {
            "_view_name": "LayoutView",
            "grid_template_rows": null,
            "right": null,
            "justify_content": null,
            "_view_module": "@jupyter-widgets/base",
            "overflow": null,
            "_model_module_version": "1.2.0",
            "_view_count": null,
            "flex_flow": null,
            "width": null,
            "min_width": null,
            "border": null,
            "align_items": null,
            "bottom": null,
            "_model_module": "@jupyter-widgets/base",
            "top": null,
            "grid_column": null,
            "overflow_y": null,
            "overflow_x": null,
            "grid_auto_flow": null,
            "grid_area": null,
            "grid_template_columns": null,
            "flex": null,
            "_model_name": "LayoutModel",
            "justify_items": null,
            "grid_row": null,
            "max_height": null,
            "align_content": null,
            "visibility": null,
            "align_self": null,
            "height": null,
            "min_height": null,
            "padding": null,
            "grid_auto_rows": null,
            "grid_gap": null,
            "max_width": null,
            "order": null,
            "_view_module_version": "1.2.0",
            "grid_template_areas": null,
            "object_position": null,
            "object_fit": null,
            "grid_auto_columns": null,
            "margin": null,
            "display": null,
            "left": null
          }
        },
        "daa53db2884b4fbcb99dc12a38793eff": {
          "model_module": "@jupyter-widgets/controls",
          "model_name": "DescriptionStyleModel",
          "state": {
            "_view_name": "StyleView",
            "_model_name": "DescriptionStyleModel",
            "description_width": "",
            "_view_module": "@jupyter-widgets/base",
            "_model_module_version": "1.5.0",
            "_view_count": null,
            "_view_module_version": "1.2.0",
            "_model_module": "@jupyter-widgets/controls"
          }
        },
        "9d820cdd911547939dd6175eafc3b6dd": {
          "model_module": "@jupyter-widgets/base",
          "model_name": "LayoutModel",
          "state": {
            "_view_name": "LayoutView",
            "grid_template_rows": null,
            "right": null,
            "justify_content": null,
            "_view_module": "@jupyter-widgets/base",
            "overflow": null,
            "_model_module_version": "1.2.0",
            "_view_count": null,
            "flex_flow": null,
            "width": null,
            "min_width": null,
            "border": null,
            "align_items": null,
            "bottom": null,
            "_model_module": "@jupyter-widgets/base",
            "top": null,
            "grid_column": null,
            "overflow_y": null,
            "overflow_x": null,
            "grid_auto_flow": null,
            "grid_area": null,
            "grid_template_columns": null,
            "flex": null,
            "_model_name": "LayoutModel",
            "justify_items": null,
            "grid_row": null,
            "max_height": null,
            "align_content": null,
            "visibility": null,
            "align_self": null,
            "height": null,
            "min_height": null,
            "padding": null,
            "grid_auto_rows": null,
            "grid_gap": null,
            "max_width": null,
            "order": null,
            "_view_module_version": "1.2.0",
            "grid_template_areas": null,
            "object_position": null,
            "object_fit": null,
            "grid_auto_columns": null,
            "margin": null,
            "display": null,
            "left": null
          }
        },
        "d28bfb4b0a134909817e99115a210f50": {
          "model_module": "@jupyter-widgets/controls",
          "model_name": "HBoxModel",
          "state": {
            "_view_name": "HBoxView",
            "_dom_classes": [],
            "_model_name": "HBoxModel",
            "_view_module": "@jupyter-widgets/controls",
            "_model_module_version": "1.5.0",
            "_view_count": null,
            "_view_module_version": "1.5.0",
            "box_style": "",
            "layout": "IPY_MODEL_5930d2a0146f455d897f352cc3815d76",
            "_model_module": "@jupyter-widgets/controls",
            "children": [
              "IPY_MODEL_3b170dc4e9974b1f89e50b7578c9fe46",
              "IPY_MODEL_88eda7ae677f48d68373730ed244bdd0"
            ]
          }
        },
        "5930d2a0146f455d897f352cc3815d76": {
          "model_module": "@jupyter-widgets/base",
          "model_name": "LayoutModel",
          "state": {
            "_view_name": "LayoutView",
            "grid_template_rows": null,
            "right": null,
            "justify_content": null,
            "_view_module": "@jupyter-widgets/base",
            "overflow": null,
            "_model_module_version": "1.2.0",
            "_view_count": null,
            "flex_flow": null,
            "width": null,
            "min_width": null,
            "border": null,
            "align_items": null,
            "bottom": null,
            "_model_module": "@jupyter-widgets/base",
            "top": null,
            "grid_column": null,
            "overflow_y": null,
            "overflow_x": null,
            "grid_auto_flow": null,
            "grid_area": null,
            "grid_template_columns": null,
            "flex": null,
            "_model_name": "LayoutModel",
            "justify_items": null,
            "grid_row": null,
            "max_height": null,
            "align_content": null,
            "visibility": null,
            "align_self": null,
            "height": null,
            "min_height": null,
            "padding": null,
            "grid_auto_rows": null,
            "grid_gap": null,
            "max_width": null,
            "order": null,
            "_view_module_version": "1.2.0",
            "grid_template_areas": null,
            "object_position": null,
            "object_fit": null,
            "grid_auto_columns": null,
            "margin": null,
            "display": null,
            "left": null
          }
        },
        "3b170dc4e9974b1f89e50b7578c9fe46": {
          "model_module": "@jupyter-widgets/controls",
          "model_name": "FloatProgressModel",
          "state": {
            "_view_name": "ProgressView",
            "style": "IPY_MODEL_185b1b738d44463cbc529b0283c244fa",
            "_dom_classes": [],
            "description": "100%",
            "_model_name": "FloatProgressModel",
            "bar_style": "success",
            "max": 5683,
            "_view_module": "@jupyter-widgets/controls",
            "_model_module_version": "1.5.0",
            "value": 5683,
            "_view_count": null,
            "_view_module_version": "1.5.0",
            "orientation": "horizontal",
            "min": 0,
            "description_tooltip": null,
            "_model_module": "@jupyter-widgets/controls",
            "layout": "IPY_MODEL_f8f332f45d82404b80e9e01f90dff56f"
          }
        },
        "88eda7ae677f48d68373730ed244bdd0": {
          "model_module": "@jupyter-widgets/controls",
          "model_name": "HTMLModel",
          "state": {
            "_view_name": "HTMLView",
            "style": "IPY_MODEL_5cda0f01d90e4b08ad66c879f118fa4e",
            "_dom_classes": [],
            "description": "",
            "_model_name": "HTMLModel",
            "placeholder": "​",
            "_view_module": "@jupyter-widgets/controls",
            "_model_module_version": "1.5.0",
            "value": " 5683/5683 [05:27&lt;00:00, 17.37it/s]",
            "_view_count": null,
            "_view_module_version": "1.5.0",
            "description_tooltip": null,
            "_model_module": "@jupyter-widgets/controls",
            "layout": "IPY_MODEL_ffe2ded09e164364bdef240c8b758af1"
          }
        },
        "185b1b738d44463cbc529b0283c244fa": {
          "model_module": "@jupyter-widgets/controls",
          "model_name": "ProgressStyleModel",
          "state": {
            "_view_name": "StyleView",
            "_model_name": "ProgressStyleModel",
            "description_width": "initial",
            "_view_module": "@jupyter-widgets/base",
            "_model_module_version": "1.5.0",
            "_view_count": null,
            "_view_module_version": "1.2.0",
            "bar_color": null,
            "_model_module": "@jupyter-widgets/controls"
          }
        },
        "f8f332f45d82404b80e9e01f90dff56f": {
          "model_module": "@jupyter-widgets/base",
          "model_name": "LayoutModel",
          "state": {
            "_view_name": "LayoutView",
            "grid_template_rows": null,
            "right": null,
            "justify_content": null,
            "_view_module": "@jupyter-widgets/base",
            "overflow": null,
            "_model_module_version": "1.2.0",
            "_view_count": null,
            "flex_flow": null,
            "width": null,
            "min_width": null,
            "border": null,
            "align_items": null,
            "bottom": null,
            "_model_module": "@jupyter-widgets/base",
            "top": null,
            "grid_column": null,
            "overflow_y": null,
            "overflow_x": null,
            "grid_auto_flow": null,
            "grid_area": null,
            "grid_template_columns": null,
            "flex": null,
            "_model_name": "LayoutModel",
            "justify_items": null,
            "grid_row": null,
            "max_height": null,
            "align_content": null,
            "visibility": null,
            "align_self": null,
            "height": null,
            "min_height": null,
            "padding": null,
            "grid_auto_rows": null,
            "grid_gap": null,
            "max_width": null,
            "order": null,
            "_view_module_version": "1.2.0",
            "grid_template_areas": null,
            "object_position": null,
            "object_fit": null,
            "grid_auto_columns": null,
            "margin": null,
            "display": null,
            "left": null
          }
        },
        "5cda0f01d90e4b08ad66c879f118fa4e": {
          "model_module": "@jupyter-widgets/controls",
          "model_name": "DescriptionStyleModel",
          "state": {
            "_view_name": "StyleView",
            "_model_name": "DescriptionStyleModel",
            "description_width": "",
            "_view_module": "@jupyter-widgets/base",
            "_model_module_version": "1.5.0",
            "_view_count": null,
            "_view_module_version": "1.2.0",
            "_model_module": "@jupyter-widgets/controls"
          }
        },
        "ffe2ded09e164364bdef240c8b758af1": {
          "model_module": "@jupyter-widgets/base",
          "model_name": "LayoutModel",
          "state": {
            "_view_name": "LayoutView",
            "grid_template_rows": null,
            "right": null,
            "justify_content": null,
            "_view_module": "@jupyter-widgets/base",
            "overflow": null,
            "_model_module_version": "1.2.0",
            "_view_count": null,
            "flex_flow": null,
            "width": null,
            "min_width": null,
            "border": null,
            "align_items": null,
            "bottom": null,
            "_model_module": "@jupyter-widgets/base",
            "top": null,
            "grid_column": null,
            "overflow_y": null,
            "overflow_x": null,
            "grid_auto_flow": null,
            "grid_area": null,
            "grid_template_columns": null,
            "flex": null,
            "_model_name": "LayoutModel",
            "justify_items": null,
            "grid_row": null,
            "max_height": null,
            "align_content": null,
            "visibility": null,
            "align_self": null,
            "height": null,
            "min_height": null,
            "padding": null,
            "grid_auto_rows": null,
            "grid_gap": null,
            "max_width": null,
            "order": null,
            "_view_module_version": "1.2.0",
            "grid_template_areas": null,
            "object_position": null,
            "object_fit": null,
            "grid_auto_columns": null,
            "margin": null,
            "display": null,
            "left": null
          }
        },
        "d5270b7d989144ad9270099220258458": {
          "model_module": "@jupyter-widgets/controls",
          "model_name": "HBoxModel",
          "state": {
            "_view_name": "HBoxView",
            "_dom_classes": [],
            "_model_name": "HBoxModel",
            "_view_module": "@jupyter-widgets/controls",
            "_model_module_version": "1.5.0",
            "_view_count": null,
            "_view_module_version": "1.5.0",
            "box_style": "",
            "layout": "IPY_MODEL_6eacc413c1584db19e130f1ad7ffda9c",
            "_model_module": "@jupyter-widgets/controls",
            "children": [
              "IPY_MODEL_48cb15e403d542f8af7b0158861d243e",
              "IPY_MODEL_686a4dc8e2a3470fbfce72e71a959100"
            ]
          }
        },
        "6eacc413c1584db19e130f1ad7ffda9c": {
          "model_module": "@jupyter-widgets/base",
          "model_name": "LayoutModel",
          "state": {
            "_view_name": "LayoutView",
            "grid_template_rows": null,
            "right": null,
            "justify_content": null,
            "_view_module": "@jupyter-widgets/base",
            "overflow": null,
            "_model_module_version": "1.2.0",
            "_view_count": null,
            "flex_flow": null,
            "width": null,
            "min_width": null,
            "border": null,
            "align_items": null,
            "bottom": null,
            "_model_module": "@jupyter-widgets/base",
            "top": null,
            "grid_column": null,
            "overflow_y": null,
            "overflow_x": null,
            "grid_auto_flow": null,
            "grid_area": null,
            "grid_template_columns": null,
            "flex": null,
            "_model_name": "LayoutModel",
            "justify_items": null,
            "grid_row": null,
            "max_height": null,
            "align_content": null,
            "visibility": null,
            "align_self": null,
            "height": null,
            "min_height": null,
            "padding": null,
            "grid_auto_rows": null,
            "grid_gap": null,
            "max_width": null,
            "order": null,
            "_view_module_version": "1.2.0",
            "grid_template_areas": null,
            "object_position": null,
            "object_fit": null,
            "grid_auto_columns": null,
            "margin": null,
            "display": null,
            "left": null
          }
        },
        "48cb15e403d542f8af7b0158861d243e": {
          "model_module": "@jupyter-widgets/controls",
          "model_name": "FloatProgressModel",
          "state": {
            "_view_name": "ProgressView",
            "style": "IPY_MODEL_ef6ad890515e4ff3b07996ef5d728236",
            "_dom_classes": [],
            "description": "100%",
            "_model_name": "FloatProgressModel",
            "bar_style": "success",
            "max": 594,
            "_view_module": "@jupyter-widgets/controls",
            "_model_module_version": "1.5.0",
            "value": 594,
            "_view_count": null,
            "_view_module_version": "1.5.0",
            "orientation": "horizontal",
            "min": 0,
            "description_tooltip": null,
            "_model_module": "@jupyter-widgets/controls",
            "layout": "IPY_MODEL_4e433403631342babbe19ac045a823eb"
          }
        },
        "686a4dc8e2a3470fbfce72e71a959100": {
          "model_module": "@jupyter-widgets/controls",
          "model_name": "HTMLModel",
          "state": {
            "_view_name": "HTMLView",
            "style": "IPY_MODEL_38df5d551b284031b387cc456ee1df4f",
            "_dom_classes": [],
            "description": "",
            "_model_name": "HTMLModel",
            "placeholder": "​",
            "_view_module": "@jupyter-widgets/controls",
            "_model_module_version": "1.5.0",
            "value": " 594/594 [00:38&lt;00:00, 15.61it/s]",
            "_view_count": null,
            "_view_module_version": "1.5.0",
            "description_tooltip": null,
            "_model_module": "@jupyter-widgets/controls",
            "layout": "IPY_MODEL_be00b302fc8a446a8747d31f60a879ec"
          }
        },
        "ef6ad890515e4ff3b07996ef5d728236": {
          "model_module": "@jupyter-widgets/controls",
          "model_name": "ProgressStyleModel",
          "state": {
            "_view_name": "StyleView",
            "_model_name": "ProgressStyleModel",
            "description_width": "initial",
            "_view_module": "@jupyter-widgets/base",
            "_model_module_version": "1.5.0",
            "_view_count": null,
            "_view_module_version": "1.2.0",
            "bar_color": null,
            "_model_module": "@jupyter-widgets/controls"
          }
        },
        "4e433403631342babbe19ac045a823eb": {
          "model_module": "@jupyter-widgets/base",
          "model_name": "LayoutModel",
          "state": {
            "_view_name": "LayoutView",
            "grid_template_rows": null,
            "right": null,
            "justify_content": null,
            "_view_module": "@jupyter-widgets/base",
            "overflow": null,
            "_model_module_version": "1.2.0",
            "_view_count": null,
            "flex_flow": null,
            "width": null,
            "min_width": null,
            "border": null,
            "align_items": null,
            "bottom": null,
            "_model_module": "@jupyter-widgets/base",
            "top": null,
            "grid_column": null,
            "overflow_y": null,
            "overflow_x": null,
            "grid_auto_flow": null,
            "grid_area": null,
            "grid_template_columns": null,
            "flex": null,
            "_model_name": "LayoutModel",
            "justify_items": null,
            "grid_row": null,
            "max_height": null,
            "align_content": null,
            "visibility": null,
            "align_self": null,
            "height": null,
            "min_height": null,
            "padding": null,
            "grid_auto_rows": null,
            "grid_gap": null,
            "max_width": null,
            "order": null,
            "_view_module_version": "1.2.0",
            "grid_template_areas": null,
            "object_position": null,
            "object_fit": null,
            "grid_auto_columns": null,
            "margin": null,
            "display": null,
            "left": null
          }
        },
        "38df5d551b284031b387cc456ee1df4f": {
          "model_module": "@jupyter-widgets/controls",
          "model_name": "DescriptionStyleModel",
          "state": {
            "_view_name": "StyleView",
            "_model_name": "DescriptionStyleModel",
            "description_width": "",
            "_view_module": "@jupyter-widgets/base",
            "_model_module_version": "1.5.0",
            "_view_count": null,
            "_view_module_version": "1.2.0",
            "_model_module": "@jupyter-widgets/controls"
          }
        },
        "be00b302fc8a446a8747d31f60a879ec": {
          "model_module": "@jupyter-widgets/base",
          "model_name": "LayoutModel",
          "state": {
            "_view_name": "LayoutView",
            "grid_template_rows": null,
            "right": null,
            "justify_content": null,
            "_view_module": "@jupyter-widgets/base",
            "overflow": null,
            "_model_module_version": "1.2.0",
            "_view_count": null,
            "flex_flow": null,
            "width": null,
            "min_width": null,
            "border": null,
            "align_items": null,
            "bottom": null,
            "_model_module": "@jupyter-widgets/base",
            "top": null,
            "grid_column": null,
            "overflow_y": null,
            "overflow_x": null,
            "grid_auto_flow": null,
            "grid_area": null,
            "grid_template_columns": null,
            "flex": null,
            "_model_name": "LayoutModel",
            "justify_items": null,
            "grid_row": null,
            "max_height": null,
            "align_content": null,
            "visibility": null,
            "align_self": null,
            "height": null,
            "min_height": null,
            "padding": null,
            "grid_auto_rows": null,
            "grid_gap": null,
            "max_width": null,
            "order": null,
            "_view_module_version": "1.2.0",
            "grid_template_areas": null,
            "object_position": null,
            "object_fit": null,
            "grid_auto_columns": null,
            "margin": null,
            "display": null,
            "left": null
          }
        },
        "2d55f3d63fef40b6a275ee833b96fd9d": {
          "model_module": "@jupyter-widgets/controls",
          "model_name": "HBoxModel",
          "state": {
            "_view_name": "HBoxView",
            "_dom_classes": [],
            "_model_name": "HBoxModel",
            "_view_module": "@jupyter-widgets/controls",
            "_model_module_version": "1.5.0",
            "_view_count": null,
            "_view_module_version": "1.5.0",
            "box_style": "",
            "layout": "IPY_MODEL_e8671c04fc414df3901ce8e4eb1ff1ea",
            "_model_module": "@jupyter-widgets/controls",
            "children": [
              "IPY_MODEL_7630fd04f9b549daa099b5d29e8ef583",
              "IPY_MODEL_0eea8d28dfd34c30a494220b96c32949"
            ]
          }
        },
        "e8671c04fc414df3901ce8e4eb1ff1ea": {
          "model_module": "@jupyter-widgets/base",
          "model_name": "LayoutModel",
          "state": {
            "_view_name": "LayoutView",
            "grid_template_rows": null,
            "right": null,
            "justify_content": null,
            "_view_module": "@jupyter-widgets/base",
            "overflow": null,
            "_model_module_version": "1.2.0",
            "_view_count": null,
            "flex_flow": null,
            "width": null,
            "min_width": null,
            "border": null,
            "align_items": null,
            "bottom": null,
            "_model_module": "@jupyter-widgets/base",
            "top": null,
            "grid_column": null,
            "overflow_y": null,
            "overflow_x": null,
            "grid_auto_flow": null,
            "grid_area": null,
            "grid_template_columns": null,
            "flex": null,
            "_model_name": "LayoutModel",
            "justify_items": null,
            "grid_row": null,
            "max_height": null,
            "align_content": null,
            "visibility": null,
            "align_self": null,
            "height": null,
            "min_height": null,
            "padding": null,
            "grid_auto_rows": null,
            "grid_gap": null,
            "max_width": null,
            "order": null,
            "_view_module_version": "1.2.0",
            "grid_template_areas": null,
            "object_position": null,
            "object_fit": null,
            "grid_auto_columns": null,
            "margin": null,
            "display": null,
            "left": null
          }
        },
        "7630fd04f9b549daa099b5d29e8ef583": {
          "model_module": "@jupyter-widgets/controls",
          "model_name": "FloatProgressModel",
          "state": {
            "_view_name": "ProgressView",
            "style": "IPY_MODEL_faf4fe9f3b394fbdb90e14a834f305c2",
            "_dom_classes": [],
            "description": "100%",
            "_model_name": "FloatProgressModel",
            "bar_style": "success",
            "max": 612,
            "_view_module": "@jupyter-widgets/controls",
            "_model_module_version": "1.5.0",
            "value": 612,
            "_view_count": null,
            "_view_module_version": "1.5.0",
            "orientation": "horizontal",
            "min": 0,
            "description_tooltip": null,
            "_model_module": "@jupyter-widgets/controls",
            "layout": "IPY_MODEL_9fd9e9c98d644a4bba52457dbc3cb375"
          }
        },
        "0eea8d28dfd34c30a494220b96c32949": {
          "model_module": "@jupyter-widgets/controls",
          "model_name": "HTMLModel",
          "state": {
            "_view_name": "HTMLView",
            "style": "IPY_MODEL_9219b0a23a024ddb9fcfe8c6682cb1f2",
            "_dom_classes": [],
            "description": "",
            "_model_name": "HTMLModel",
            "placeholder": "​",
            "_view_module": "@jupyter-widgets/controls",
            "_model_module_version": "1.5.0",
            "value": " 612/612 [01:32&lt;00:00,  6.63it/s]",
            "_view_count": null,
            "_view_module_version": "1.5.0",
            "description_tooltip": null,
            "_model_module": "@jupyter-widgets/controls",
            "layout": "IPY_MODEL_1635ebf3ce224165b36259447f4dec84"
          }
        },
        "faf4fe9f3b394fbdb90e14a834f305c2": {
          "model_module": "@jupyter-widgets/controls",
          "model_name": "ProgressStyleModel",
          "state": {
            "_view_name": "StyleView",
            "_model_name": "ProgressStyleModel",
            "description_width": "initial",
            "_view_module": "@jupyter-widgets/base",
            "_model_module_version": "1.5.0",
            "_view_count": null,
            "_view_module_version": "1.2.0",
            "bar_color": null,
            "_model_module": "@jupyter-widgets/controls"
          }
        },
        "9fd9e9c98d644a4bba52457dbc3cb375": {
          "model_module": "@jupyter-widgets/base",
          "model_name": "LayoutModel",
          "state": {
            "_view_name": "LayoutView",
            "grid_template_rows": null,
            "right": null,
            "justify_content": null,
            "_view_module": "@jupyter-widgets/base",
            "overflow": null,
            "_model_module_version": "1.2.0",
            "_view_count": null,
            "flex_flow": null,
            "width": null,
            "min_width": null,
            "border": null,
            "align_items": null,
            "bottom": null,
            "_model_module": "@jupyter-widgets/base",
            "top": null,
            "grid_column": null,
            "overflow_y": null,
            "overflow_x": null,
            "grid_auto_flow": null,
            "grid_area": null,
            "grid_template_columns": null,
            "flex": null,
            "_model_name": "LayoutModel",
            "justify_items": null,
            "grid_row": null,
            "max_height": null,
            "align_content": null,
            "visibility": null,
            "align_self": null,
            "height": null,
            "min_height": null,
            "padding": null,
            "grid_auto_rows": null,
            "grid_gap": null,
            "max_width": null,
            "order": null,
            "_view_module_version": "1.2.0",
            "grid_template_areas": null,
            "object_position": null,
            "object_fit": null,
            "grid_auto_columns": null,
            "margin": null,
            "display": null,
            "left": null
          }
        },
        "9219b0a23a024ddb9fcfe8c6682cb1f2": {
          "model_module": "@jupyter-widgets/controls",
          "model_name": "DescriptionStyleModel",
          "state": {
            "_view_name": "StyleView",
            "_model_name": "DescriptionStyleModel",
            "description_width": "",
            "_view_module": "@jupyter-widgets/base",
            "_model_module_version": "1.5.0",
            "_view_count": null,
            "_view_module_version": "1.2.0",
            "_model_module": "@jupyter-widgets/controls"
          }
        },
        "1635ebf3ce224165b36259447f4dec84": {
          "model_module": "@jupyter-widgets/base",
          "model_name": "LayoutModel",
          "state": {
            "_view_name": "LayoutView",
            "grid_template_rows": null,
            "right": null,
            "justify_content": null,
            "_view_module": "@jupyter-widgets/base",
            "overflow": null,
            "_model_module_version": "1.2.0",
            "_view_count": null,
            "flex_flow": null,
            "width": null,
            "min_width": null,
            "border": null,
            "align_items": null,
            "bottom": null,
            "_model_module": "@jupyter-widgets/base",
            "top": null,
            "grid_column": null,
            "overflow_y": null,
            "overflow_x": null,
            "grid_auto_flow": null,
            "grid_area": null,
            "grid_template_columns": null,
            "flex": null,
            "_model_name": "LayoutModel",
            "justify_items": null,
            "grid_row": null,
            "max_height": null,
            "align_content": null,
            "visibility": null,
            "align_self": null,
            "height": null,
            "min_height": null,
            "padding": null,
            "grid_auto_rows": null,
            "grid_gap": null,
            "max_width": null,
            "order": null,
            "_view_module_version": "1.2.0",
            "grid_template_areas": null,
            "object_position": null,
            "object_fit": null,
            "grid_auto_columns": null,
            "margin": null,
            "display": null,
            "left": null
          }
        }
      }
    }
  },
  "cells": [
    {
      "cell_type": "markdown",
      "metadata": {
        "id": "view-in-github",
        "colab_type": "text"
      },
      "source": [
        "<a href=\"https://colab.research.google.com/github/ihassanjavaid/Fundus-Analysis/blob/main/Fundus_Analysis.ipynb\" target=\"_parent\"><img src=\"https://colab.research.google.com/assets/colab-badge.svg\" alt=\"Open In Colab\"/></a>"
      ]
    },
    {
      "cell_type": "markdown",
      "metadata": {
        "id": "JuL-TQkmnY7S"
      },
      "source": [
        "# Fundus Analysis\n",
        "\n",
        "**Dataset:** [Fundus Dataset](https://www.kaggle.com/andrewmvd/ocular-disease-recognition-odir5k)\n",
        "\n",
        "*   Muhammad Hasan Malik\n",
        "*   FA17-BSE-083 - BSCS-7A\n",
        "\n",
        "\n",
        "---\n",
        "\n",
        "\n"
      ]
    },
    {
      "cell_type": "markdown",
      "metadata": {
        "id": "EXNFAD68n6ya"
      },
      "source": [
        "**Mount The Drive**"
      ]
    },
    {
      "cell_type": "code",
      "metadata": {
        "colab": {
          "base_uri": "https://localhost:8080/"
        },
        "id": "uByOrZP4nChU",
        "outputId": "83a8893f-1409-4ebe-e8d2-e9d7c6e2ff7a"
      },
      "source": [
        "from google.colab import drive\n",
        "\n",
        "# mount the drive to this path\n",
        "drive.mount('/content/gdrive')"
      ],
      "execution_count": null,
      "outputs": [
        {
          "output_type": "stream",
          "text": [
            "Mounted at /content/gdrive\n"
          ],
          "name": "stdout"
        }
      ]
    },
    {
      "cell_type": "markdown",
      "metadata": {
        "id": "S7v6rs5Aorgo"
      },
      "source": [
        "Configure the working directory"
      ]
    },
    {
      "cell_type": "code",
      "metadata": {
        "id": "IASa7Q0WoGtJ"
      },
      "source": [
        "import os\n",
        "\n",
        "# set the kaggle configuration directory\n",
        "os.environ['KAGGLE_CONFIG_DIR'] = \"/content/gdrive/My Drive/Kaggle\""
      ],
      "execution_count": null,
      "outputs": []
    },
    {
      "cell_type": "markdown",
      "metadata": {
        "id": "1iomXQpyo0fA"
      },
      "source": [
        "Chane the working directory"
      ]
    },
    {
      "cell_type": "code",
      "metadata": {
        "colab": {
          "base_uri": "https://localhost:8080/"
        },
        "id": "iIZuWLZ4oJIh",
        "outputId": "76404c77-749a-42a9-a6a8-2e3dc41e5f85"
      },
      "source": [
        "%cd /content/gdrive/My Drive/Kaggle"
      ],
      "execution_count": null,
      "outputs": [
        {
          "output_type": "stream",
          "text": [
            "/content/gdrive/My Drive/Kaggle\n"
          ],
          "name": "stdout"
        }
      ]
    },
    {
      "cell_type": "markdown",
      "metadata": {
        "id": "J56hn_fjo2fP"
      },
      "source": [
        ""
      ]
    },
    {
      "cell_type": "code",
      "metadata": {
        "colab": {
          "base_uri": "https://localhost:8080/"
        },
        "id": "aVWyC2HtoOjp",
        "outputId": "26df30f5-62f4-4af1-9ffd-6bd65c4280f6"
      },
      "source": [
        "# download the kaggle.json API token and place it into this directory\n",
        "# to fetch data from kaggle into this directory\n",
        "\n",
        "!ls"
      ],
      "execution_count": null,
      "outputs": [
        {
          "output_type": "stream",
          "text": [
            "kaggle.json\n"
          ],
          "name": "stdout"
        }
      ]
    },
    {
      "cell_type": "markdown",
      "metadata": {
        "id": "w_fCdjz3o67Z"
      },
      "source": [
        "**Download Data from Kaggle to Colab**"
      ]
    },
    {
      "cell_type": "code",
      "metadata": {
        "colab": {
          "base_uri": "https://localhost:8080/"
        },
        "id": "esj_z-C3pgdH",
        "outputId": "bfcf5503-f4d3-46bc-99ee-4ee2f36f558b"
      },
      "source": [
        "!kaggle datasets download -d andrewmvd/ocular-disease-recognition-odir5k"
      ],
      "execution_count": null,
      "outputs": [
        {
          "output_type": "stream",
          "text": [
            "Downloading ocular-disease-recognition-odir5k.zip to /content/gdrive/My Drive/Kaggle\n",
            " 99% 1.61G/1.62G [00:40<00:00, 67.1MB/s]\n",
            "100% 1.62G/1.62G [00:41<00:00, 42.4MB/s]\n"
          ],
          "name": "stdout"
        }
      ]
    },
    {
      "cell_type": "code",
      "metadata": {
        "colab": {
          "base_uri": "https://localhost:8080/"
        },
        "id": "vqUHg__Jq53o",
        "outputId": "dbac962a-249d-4e59-8aa2-bdaac7db4323"
      },
      "source": [
        "!ls"
      ],
      "execution_count": null,
      "outputs": [
        {
          "output_type": "stream",
          "text": [
            "kaggle.json  ocular-disease-recognition-odir5k.zip\n"
          ],
          "name": "stdout"
        }
      ]
    },
    {
      "cell_type": "markdown",
      "metadata": {
        "id": "cVC0wuJ2q9uX"
      },
      "source": [
        "**Un-Zip the Data**"
      ]
    },
    {
      "cell_type": "code",
      "metadata": {
        "id": "x3WcbR8yq_uv"
      },
      "source": [
        "!unzip \\*.zip  && rm *.zip\n",
        "\n",
        "# Output of this cell is removed as it exceeded 5000 lines"
      ],
      "execution_count": null,
      "outputs": []
    },
    {
      "cell_type": "code",
      "metadata": {
        "colab": {
          "base_uri": "https://localhost:8080/"
        },
        "id": "vn-Lb_SpsJgI",
        "outputId": "863f2370-cee6-458c-836a-a0707fce9edf"
      },
      "source": [
        "# unzipped data\n",
        "\n",
        "!ls"
      ],
      "execution_count": null,
      "outputs": [
        {
          "output_type": "stream",
          "text": [
            "full_df.csv  kaggle.json  ODIR-5K  preprocessed_images\n"
          ],
          "name": "stdout"
        }
      ]
    },
    {
      "cell_type": "markdown",
      "metadata": {
        "id": "wdeU-17CsVf4"
      },
      "source": [
        "**Data Preparation**"
      ]
    },
    {
      "cell_type": "code",
      "metadata": {
        "colab": {
          "base_uri": "https://localhost:8080/",
          "height": 387
        },
        "id": "XZ21PzMnsX-_",
        "outputId": "2ba64ec0-1929-4091-f9f9-2e0e4b0c2829"
      },
      "source": [
        "import pandas as pd\n",
        "\n",
        "# load the csv files having labels information into dataframe\n",
        "df = pd.read_csv('/content/gdrive/MyDrive/Kaggle/full_df.csv')\n",
        "df.head()"
      ],
      "execution_count": null,
      "outputs": [
        {
          "output_type": "execute_result",
          "data": {
            "text/html": [
              "<div>\n",
              "<style scoped>\n",
              "    .dataframe tbody tr th:only-of-type {\n",
              "        vertical-align: middle;\n",
              "    }\n",
              "\n",
              "    .dataframe tbody tr th {\n",
              "        vertical-align: top;\n",
              "    }\n",
              "\n",
              "    .dataframe thead th {\n",
              "        text-align: right;\n",
              "    }\n",
              "</style>\n",
              "<table border=\"1\" class=\"dataframe\">\n",
              "  <thead>\n",
              "    <tr style=\"text-align: right;\">\n",
              "      <th></th>\n",
              "      <th>ID</th>\n",
              "      <th>Patient Age</th>\n",
              "      <th>Patient Sex</th>\n",
              "      <th>Left-Fundus</th>\n",
              "      <th>Right-Fundus</th>\n",
              "      <th>Left-Diagnostic Keywords</th>\n",
              "      <th>Right-Diagnostic Keywords</th>\n",
              "      <th>N</th>\n",
              "      <th>D</th>\n",
              "      <th>G</th>\n",
              "      <th>C</th>\n",
              "      <th>A</th>\n",
              "      <th>H</th>\n",
              "      <th>M</th>\n",
              "      <th>O</th>\n",
              "      <th>filepath</th>\n",
              "      <th>labels</th>\n",
              "      <th>target</th>\n",
              "      <th>filename</th>\n",
              "    </tr>\n",
              "  </thead>\n",
              "  <tbody>\n",
              "    <tr>\n",
              "      <th>0</th>\n",
              "      <td>0</td>\n",
              "      <td>69</td>\n",
              "      <td>Female</td>\n",
              "      <td>0_left.jpg</td>\n",
              "      <td>0_right.jpg</td>\n",
              "      <td>cataract</td>\n",
              "      <td>normal fundus</td>\n",
              "      <td>0</td>\n",
              "      <td>0</td>\n",
              "      <td>0</td>\n",
              "      <td>1</td>\n",
              "      <td>0</td>\n",
              "      <td>0</td>\n",
              "      <td>0</td>\n",
              "      <td>0</td>\n",
              "      <td>../input/ocular-disease-recognition-odir5k/ODI...</td>\n",
              "      <td>['N']</td>\n",
              "      <td>[1, 0, 0, 0, 0, 0, 0, 0]</td>\n",
              "      <td>0_right.jpg</td>\n",
              "    </tr>\n",
              "    <tr>\n",
              "      <th>1</th>\n",
              "      <td>1</td>\n",
              "      <td>57</td>\n",
              "      <td>Male</td>\n",
              "      <td>1_left.jpg</td>\n",
              "      <td>1_right.jpg</td>\n",
              "      <td>normal fundus</td>\n",
              "      <td>normal fundus</td>\n",
              "      <td>1</td>\n",
              "      <td>0</td>\n",
              "      <td>0</td>\n",
              "      <td>0</td>\n",
              "      <td>0</td>\n",
              "      <td>0</td>\n",
              "      <td>0</td>\n",
              "      <td>0</td>\n",
              "      <td>../input/ocular-disease-recognition-odir5k/ODI...</td>\n",
              "      <td>['N']</td>\n",
              "      <td>[1, 0, 0, 0, 0, 0, 0, 0]</td>\n",
              "      <td>1_right.jpg</td>\n",
              "    </tr>\n",
              "    <tr>\n",
              "      <th>2</th>\n",
              "      <td>2</td>\n",
              "      <td>42</td>\n",
              "      <td>Male</td>\n",
              "      <td>2_left.jpg</td>\n",
              "      <td>2_right.jpg</td>\n",
              "      <td>laser spot，moderate non proliferative retinopathy</td>\n",
              "      <td>moderate non proliferative retinopathy</td>\n",
              "      <td>0</td>\n",
              "      <td>1</td>\n",
              "      <td>0</td>\n",
              "      <td>0</td>\n",
              "      <td>0</td>\n",
              "      <td>0</td>\n",
              "      <td>0</td>\n",
              "      <td>1</td>\n",
              "      <td>../input/ocular-disease-recognition-odir5k/ODI...</td>\n",
              "      <td>['D']</td>\n",
              "      <td>[0, 1, 0, 0, 0, 0, 0, 0]</td>\n",
              "      <td>2_right.jpg</td>\n",
              "    </tr>\n",
              "    <tr>\n",
              "      <th>3</th>\n",
              "      <td>4</td>\n",
              "      <td>53</td>\n",
              "      <td>Male</td>\n",
              "      <td>4_left.jpg</td>\n",
              "      <td>4_right.jpg</td>\n",
              "      <td>macular epiretinal membrane</td>\n",
              "      <td>mild nonproliferative retinopathy</td>\n",
              "      <td>0</td>\n",
              "      <td>1</td>\n",
              "      <td>0</td>\n",
              "      <td>0</td>\n",
              "      <td>0</td>\n",
              "      <td>0</td>\n",
              "      <td>0</td>\n",
              "      <td>1</td>\n",
              "      <td>../input/ocular-disease-recognition-odir5k/ODI...</td>\n",
              "      <td>['D']</td>\n",
              "      <td>[0, 1, 0, 0, 0, 0, 0, 0]</td>\n",
              "      <td>4_right.jpg</td>\n",
              "    </tr>\n",
              "    <tr>\n",
              "      <th>4</th>\n",
              "      <td>5</td>\n",
              "      <td>50</td>\n",
              "      <td>Female</td>\n",
              "      <td>5_left.jpg</td>\n",
              "      <td>5_right.jpg</td>\n",
              "      <td>moderate non proliferative retinopathy</td>\n",
              "      <td>moderate non proliferative retinopathy</td>\n",
              "      <td>0</td>\n",
              "      <td>1</td>\n",
              "      <td>0</td>\n",
              "      <td>0</td>\n",
              "      <td>0</td>\n",
              "      <td>0</td>\n",
              "      <td>0</td>\n",
              "      <td>0</td>\n",
              "      <td>../input/ocular-disease-recognition-odir5k/ODI...</td>\n",
              "      <td>['D']</td>\n",
              "      <td>[0, 1, 0, 0, 0, 0, 0, 0]</td>\n",
              "      <td>5_right.jpg</td>\n",
              "    </tr>\n",
              "  </tbody>\n",
              "</table>\n",
              "</div>"
            ],
            "text/plain": [
              "   ID  Patient Age Patient Sex  ... labels                    target     filename\n",
              "0   0           69      Female  ...  ['N']  [1, 0, 0, 0, 0, 0, 0, 0]  0_right.jpg\n",
              "1   1           57        Male  ...  ['N']  [1, 0, 0, 0, 0, 0, 0, 0]  1_right.jpg\n",
              "2   2           42        Male  ...  ['D']  [0, 1, 0, 0, 0, 0, 0, 0]  2_right.jpg\n",
              "3   4           53        Male  ...  ['D']  [0, 1, 0, 0, 0, 0, 0, 0]  4_right.jpg\n",
              "4   5           50      Female  ...  ['D']  [0, 1, 0, 0, 0, 0, 0, 0]  5_right.jpg\n",
              "\n",
              "[5 rows x 19 columns]"
            ]
          },
          "metadata": {
            "tags": []
          },
          "execution_count": 12
        }
      ]
    },
    {
      "cell_type": "code",
      "metadata": {
        "id": "NSd6eiHLszyh"
      },
      "source": [
        "# make a new directory to store all the images in a new folder\n",
        "\n",
        "!mkdir images"
      ],
      "execution_count": null,
      "outputs": []
    },
    {
      "cell_type": "code",
      "metadata": {
        "colab": {
          "base_uri": "https://localhost:8080/"
        },
        "id": "wcEXe8M5s4jv",
        "outputId": "f7518d7c-6077-45d1-a1b2-0d3e52bdc0a1"
      },
      "source": [
        "# show the new directory\n",
        "\n",
        "!ls"
      ],
      "execution_count": null,
      "outputs": [
        {
          "output_type": "stream",
          "text": [
            "full_df.csv  images  kaggle.json  ODIR-5K  preprocessed_images\n"
          ],
          "name": "stdout"
        }
      ]
    },
    {
      "cell_type": "markdown",
      "metadata": {
        "id": "0CkBrk_WtaDY"
      },
      "source": [
        "**Copy all the training and testing images into one folder**"
      ]
    },
    {
      "cell_type": "code",
      "metadata": {
        "colab": {
          "base_uri": "https://localhost:8080/",
          "height": 66,
          "referenced_widgets": [
            "b5870eb493a340caae0e17f31049d43f",
            "9108a77c82f74bc9830fec7c11241c04",
            "c4270e61e19e4f25938845e85ab5e081",
            "4db4286920e44137b0d8ccb876ece4e4",
            "3e885816210e4a3aa4423717900f8ae2",
            "14aa984c91274c7db37f27efa46e639a",
            "471f9e5bf1294dff902f6bd413fcbbea",
            "47ae37a9c8924cbfb77f0ab95f32196e"
          ]
        },
        "id": "C3eaYrfltB14",
        "outputId": "8b9072b1-097b-49f9-8798-0c0f52d662f8"
      },
      "source": [
        "import os\n",
        "import shutil\n",
        "from tqdm.notebook import tqdm\n",
        "\n",
        "# Copy training images to images directory\n",
        "\n",
        "# the source from where the images are to be copied\n",
        "src = '/content/gdrive/MyDrive/Kaggle/ODIR-5K/ODIR-5K/Training Images'\n",
        "\n",
        "src_files = os.listdir(src)\n",
        "\n",
        "# the destiation to where images are copied\n",
        "dest = '/content/gdrive/MyDrive/Kaggle/images'\n",
        "\n",
        "# name every image accordingly\n",
        "for file_name in tqdm(src_files):\n",
        "    full_file_name = os.path.join(src, file_name)\n",
        "    if os.path.isfile(full_file_name):\n",
        "        shutil.copy(full_file_name, dest)"
      ],
      "execution_count": null,
      "outputs": [
        {
          "output_type": "display_data",
          "data": {
            "application/vnd.jupyter.widget-view+json": {
              "model_id": "b5870eb493a340caae0e17f31049d43f",
              "version_minor": 0,
              "version_major": 2
            },
            "text/plain": [
              "HBox(children=(FloatProgress(value=0.0, max=7000.0), HTML(value='')))"
            ]
          },
          "metadata": {
            "tags": []
          }
        },
        {
          "output_type": "stream",
          "text": [
            "\n"
          ],
          "name": "stdout"
        }
      ]
    },
    {
      "cell_type": "code",
      "metadata": {
        "colab": {
          "base_uri": "https://localhost:8080/",
          "height": 66,
          "referenced_widgets": [
            "f6433fa0dd8844f69a9af1f3de8718df",
            "92305bfb94cc46e8a426096f479ac2f1",
            "a74fb7eac19b4d9280c3e3a151631ddb",
            "93bad2ad2dd24680984538a0d4274ee4",
            "34b6c55287594be88e43e258524dc282",
            "aefbdf123966449fb18c3ade8c587b60",
            "daa53db2884b4fbcb99dc12a38793eff",
            "9d820cdd911547939dd6175eafc3b6dd"
          ]
        },
        "id": "CdtTDz7QtpsX",
        "outputId": "d9a608de-eaac-48af-8349-9b560b6f4d76"
      },
      "source": [
        "# Copy testing images to images directory\n",
        "\n",
        "# the source from where the images are to be copied\n",
        "src = '/content/gdrive/MyDrive/Kaggle/ODIR-5K/ODIR-5K/Testing Images'\n",
        "\n",
        "src_files = os.listdir(src)\n",
        "\n",
        "# name every image accordingly\n",
        "for file_name in tqdm(src_files):\n",
        "    full_file_name = os.path.join(src, file_name)\n",
        "    if os.path.isfile(full_file_name):\n",
        "        shutil.copy(full_file_name, dest)"
      ],
      "execution_count": null,
      "outputs": [
        {
          "output_type": "display_data",
          "data": {
            "application/vnd.jupyter.widget-view+json": {
              "model_id": "f6433fa0dd8844f69a9af1f3de8718df",
              "version_minor": 0,
              "version_major": 2
            },
            "text/plain": [
              "HBox(children=(FloatProgress(value=0.0, max=1000.0), HTML(value='')))"
            ]
          },
          "metadata": {
            "tags": []
          }
        },
        {
          "output_type": "stream",
          "text": [
            "\n"
          ],
          "name": "stdout"
        }
      ]
    },
    {
      "cell_type": "code",
      "metadata": {
        "colab": {
          "base_uri": "https://localhost:8080/"
        },
        "id": "nAdaXo8lt_4W",
        "outputId": "8a144a53-9ab7-4960-df58-c8aff1255ca8"
      },
      "source": [
        "directory = '/content/gdrive/MyDrive/Kaggle/images'\n",
        "\n",
        "# see if all of the images are copied\n",
        "print(len([name for name in os.listdir(directory) if os.path.isfile(os.path.join(directory, name))]))"
      ],
      "execution_count": null,
      "outputs": [
        {
          "output_type": "stream",
          "text": [
            "8000\n"
          ],
          "name": "stdout"
        }
      ]
    },
    {
      "cell_type": "markdown",
      "metadata": {
        "id": "hXPdSDCrux6X"
      },
      "source": [
        "**Categorize images into folders according to their classes**"
      ]
    },
    {
      "cell_type": "code",
      "metadata": {
        "id": "ITuxho8Qu4Yn"
      },
      "source": [
        "# make directory for categorized images\n",
        "\n",
        "!mkdir categorized_images"
      ],
      "execution_count": null,
      "outputs": []
    },
    {
      "cell_type": "code",
      "metadata": {
        "colab": {
          "base_uri": "https://localhost:8080/",
          "height": 52
        },
        "id": "B2C6uA4du6TP",
        "outputId": "02151cc1-ea4f-41ef-df37-2928dafb8dd6"
      },
      "source": [
        "# change the working directory\n",
        "\n",
        "%cd categorized_images\n",
        "%pwd"
      ],
      "execution_count": null,
      "outputs": [
        {
          "output_type": "stream",
          "text": [
            "/content/gdrive/My Drive/Kaggle/categorized_images\n"
          ],
          "name": "stdout"
        },
        {
          "output_type": "execute_result",
          "data": {
            "application/vnd.google.colaboratory.intrinsic+json": {
              "type": "string"
            },
            "text/plain": [
              "'/content/gdrive/My Drive/Kaggle/categorized_images'"
            ]
          },
          "metadata": {
            "tags": []
          },
          "execution_count": 19
        }
      ]
    },
    {
      "cell_type": "code",
      "metadata": {
        "id": "7ZmF1vkTvBpH"
      },
      "source": [
        "# make directories of all classes\n",
        "\n",
        "!mkdir Normal\n",
        "!mkdir Cataract\n",
        "!mkdir Myopia"
      ],
      "execution_count": null,
      "outputs": []
    },
    {
      "cell_type": "code",
      "metadata": {
        "colab": {
          "base_uri": "https://localhost:8080/"
        },
        "id": "m6mEtx4FvSbR",
        "outputId": "dc824d5c-e6e0-4110-ded3-2d376fca5589"
      },
      "source": [
        "# go back to main working directory\n",
        "\n",
        "%cd .."
      ],
      "execution_count": null,
      "outputs": [
        {
          "output_type": "stream",
          "text": [
            "/content/gdrive/My Drive/Kaggle\n"
          ],
          "name": "stdout"
        }
      ]
    },
    {
      "cell_type": "code",
      "metadata": {
        "colab": {
          "base_uri": "https://localhost:8080/",
          "height": 387
        },
        "id": "xFFGjPtZvdde",
        "outputId": "ec3cb009-2dee-43cb-9bcc-b6abae5bee6d"
      },
      "source": [
        "# copy the dataframe into new variable\n",
        "\n",
        "data_info = df\n",
        "data_info.head()"
      ],
      "execution_count": null,
      "outputs": [
        {
          "output_type": "execute_result",
          "data": {
            "text/html": [
              "<div>\n",
              "<style scoped>\n",
              "    .dataframe tbody tr th:only-of-type {\n",
              "        vertical-align: middle;\n",
              "    }\n",
              "\n",
              "    .dataframe tbody tr th {\n",
              "        vertical-align: top;\n",
              "    }\n",
              "\n",
              "    .dataframe thead th {\n",
              "        text-align: right;\n",
              "    }\n",
              "</style>\n",
              "<table border=\"1\" class=\"dataframe\">\n",
              "  <thead>\n",
              "    <tr style=\"text-align: right;\">\n",
              "      <th></th>\n",
              "      <th>ID</th>\n",
              "      <th>Patient Age</th>\n",
              "      <th>Patient Sex</th>\n",
              "      <th>Left-Fundus</th>\n",
              "      <th>Right-Fundus</th>\n",
              "      <th>Left-Diagnostic Keywords</th>\n",
              "      <th>Right-Diagnostic Keywords</th>\n",
              "      <th>N</th>\n",
              "      <th>D</th>\n",
              "      <th>G</th>\n",
              "      <th>C</th>\n",
              "      <th>A</th>\n",
              "      <th>H</th>\n",
              "      <th>M</th>\n",
              "      <th>O</th>\n",
              "      <th>filepath</th>\n",
              "      <th>labels</th>\n",
              "      <th>target</th>\n",
              "      <th>filename</th>\n",
              "    </tr>\n",
              "  </thead>\n",
              "  <tbody>\n",
              "    <tr>\n",
              "      <th>0</th>\n",
              "      <td>0</td>\n",
              "      <td>69</td>\n",
              "      <td>Female</td>\n",
              "      <td>0_left.jpg</td>\n",
              "      <td>0_right.jpg</td>\n",
              "      <td>cataract</td>\n",
              "      <td>normal fundus</td>\n",
              "      <td>0</td>\n",
              "      <td>0</td>\n",
              "      <td>0</td>\n",
              "      <td>1</td>\n",
              "      <td>0</td>\n",
              "      <td>0</td>\n",
              "      <td>0</td>\n",
              "      <td>0</td>\n",
              "      <td>../input/ocular-disease-recognition-odir5k/ODI...</td>\n",
              "      <td>['N']</td>\n",
              "      <td>[1, 0, 0, 0, 0, 0, 0, 0]</td>\n",
              "      <td>0_right.jpg</td>\n",
              "    </tr>\n",
              "    <tr>\n",
              "      <th>1</th>\n",
              "      <td>1</td>\n",
              "      <td>57</td>\n",
              "      <td>Male</td>\n",
              "      <td>1_left.jpg</td>\n",
              "      <td>1_right.jpg</td>\n",
              "      <td>normal fundus</td>\n",
              "      <td>normal fundus</td>\n",
              "      <td>1</td>\n",
              "      <td>0</td>\n",
              "      <td>0</td>\n",
              "      <td>0</td>\n",
              "      <td>0</td>\n",
              "      <td>0</td>\n",
              "      <td>0</td>\n",
              "      <td>0</td>\n",
              "      <td>../input/ocular-disease-recognition-odir5k/ODI...</td>\n",
              "      <td>['N']</td>\n",
              "      <td>[1, 0, 0, 0, 0, 0, 0, 0]</td>\n",
              "      <td>1_right.jpg</td>\n",
              "    </tr>\n",
              "    <tr>\n",
              "      <th>2</th>\n",
              "      <td>2</td>\n",
              "      <td>42</td>\n",
              "      <td>Male</td>\n",
              "      <td>2_left.jpg</td>\n",
              "      <td>2_right.jpg</td>\n",
              "      <td>laser spot，moderate non proliferative retinopathy</td>\n",
              "      <td>moderate non proliferative retinopathy</td>\n",
              "      <td>0</td>\n",
              "      <td>1</td>\n",
              "      <td>0</td>\n",
              "      <td>0</td>\n",
              "      <td>0</td>\n",
              "      <td>0</td>\n",
              "      <td>0</td>\n",
              "      <td>1</td>\n",
              "      <td>../input/ocular-disease-recognition-odir5k/ODI...</td>\n",
              "      <td>['D']</td>\n",
              "      <td>[0, 1, 0, 0, 0, 0, 0, 0]</td>\n",
              "      <td>2_right.jpg</td>\n",
              "    </tr>\n",
              "    <tr>\n",
              "      <th>3</th>\n",
              "      <td>4</td>\n",
              "      <td>53</td>\n",
              "      <td>Male</td>\n",
              "      <td>4_left.jpg</td>\n",
              "      <td>4_right.jpg</td>\n",
              "      <td>macular epiretinal membrane</td>\n",
              "      <td>mild nonproliferative retinopathy</td>\n",
              "      <td>0</td>\n",
              "      <td>1</td>\n",
              "      <td>0</td>\n",
              "      <td>0</td>\n",
              "      <td>0</td>\n",
              "      <td>0</td>\n",
              "      <td>0</td>\n",
              "      <td>1</td>\n",
              "      <td>../input/ocular-disease-recognition-odir5k/ODI...</td>\n",
              "      <td>['D']</td>\n",
              "      <td>[0, 1, 0, 0, 0, 0, 0, 0]</td>\n",
              "      <td>4_right.jpg</td>\n",
              "    </tr>\n",
              "    <tr>\n",
              "      <th>4</th>\n",
              "      <td>5</td>\n",
              "      <td>50</td>\n",
              "      <td>Female</td>\n",
              "      <td>5_left.jpg</td>\n",
              "      <td>5_right.jpg</td>\n",
              "      <td>moderate non proliferative retinopathy</td>\n",
              "      <td>moderate non proliferative retinopathy</td>\n",
              "      <td>0</td>\n",
              "      <td>1</td>\n",
              "      <td>0</td>\n",
              "      <td>0</td>\n",
              "      <td>0</td>\n",
              "      <td>0</td>\n",
              "      <td>0</td>\n",
              "      <td>0</td>\n",
              "      <td>../input/ocular-disease-recognition-odir5k/ODI...</td>\n",
              "      <td>['D']</td>\n",
              "      <td>[0, 1, 0, 0, 0, 0, 0, 0]</td>\n",
              "      <td>5_right.jpg</td>\n",
              "    </tr>\n",
              "  </tbody>\n",
              "</table>\n",
              "</div>"
            ],
            "text/plain": [
              "   ID  Patient Age Patient Sex  ... labels                    target     filename\n",
              "0   0           69      Female  ...  ['N']  [1, 0, 0, 0, 0, 0, 0, 0]  0_right.jpg\n",
              "1   1           57        Male  ...  ['N']  [1, 0, 0, 0, 0, 0, 0, 0]  1_right.jpg\n",
              "2   2           42        Male  ...  ['D']  [0, 1, 0, 0, 0, 0, 0, 0]  2_right.jpg\n",
              "3   4           53        Male  ...  ['D']  [0, 1, 0, 0, 0, 0, 0, 0]  4_right.jpg\n",
              "4   5           50      Female  ...  ['D']  [0, 1, 0, 0, 0, 0, 0, 0]  5_right.jpg\n",
              "\n",
              "[5 rows x 19 columns]"
            ]
          },
          "metadata": {
            "tags": []
          },
          "execution_count": 22
        }
      ]
    },
    {
      "cell_type": "markdown",
      "metadata": {
        "id": "4IAt6ljCvnf2"
      },
      "source": [
        "**Make lists according to their classes**"
      ]
    },
    {
      "cell_type": "code",
      "metadata": {
        "colab": {
          "base_uri": "https://localhost:8080/"
        },
        "id": "DEVueWGcviWe",
        "outputId": "8a44cd89-d219-4bf9-d8f1-41b07d1503cd"
      },
      "source": [
        "#%% md **Cataract**\n",
        "\n",
        "#%%\n",
        "\n",
        "left_info = data_info[['Left-Fundus', 'Left-Diagnostic Keywords']]\n",
        "left_info.head()\n",
        "\n",
        "#%%\n",
        "\n",
        "left_cataract_list = []\n",
        "\n",
        "for i, row in left_info.iterrows():\n",
        "    if ('cataract' in row['Left-Diagnostic Keywords']) or ('Cataract' in row['Left-Diagnostic Keywords']):\n",
        "        left_cataract_list.append(row['Left-Fundus'])\n",
        "\n",
        "len(left_cataract_list)\n",
        "\n",
        "#%%\n",
        "\n",
        "right_info = data_info[['Right-Fundus', 'Right-Diagnostic Keywords']]\n",
        "right_info.head()\n",
        "\n",
        "#%%\n",
        "\n",
        "\n",
        "right_cataract_list = []\n",
        "\n",
        "for i, row in right_info.iterrows():\n",
        "    if ('cataract' in row['Right-Diagnostic Keywords']) or ('Cataract' in row['Right-Diagnostic Keywords']):\n",
        "        right_cataract_list.append(row['Right-Fundus'])\n",
        "\n",
        "len(right_cataract_list)\n",
        "\n",
        "#%%\n",
        "\n",
        "cataract_list = left_cataract_list\n",
        "cataract_list.extend(right_cataract_list)\n",
        "len(cataract_list)\n",
        "\n",
        "#%% md **Normal**\n",
        "\n",
        "#%%\n",
        "\n",
        "left_normal_list = []\n",
        "\n",
        "for i, row in left_info.iterrows():\n",
        "    if ('normal' in row['Left-Diagnostic Keywords']) or ('Normal' in row['Left-Diagnostic Keywords']):\n",
        "        left_normal_list.append(row['Left-Fundus'])\n",
        "\n",
        "len(left_normal_list)\n",
        "\n",
        "#%%\n",
        "\n",
        "right_normal_list = []\n",
        "\n",
        "for i, row in right_info.iterrows():\n",
        "    if ('normal' in row['Right-Diagnostic Keywords']) or ('Normal' in row['Right-Diagnostic Keywords']):\n",
        "        right_normal_list.append(row['Right-Fundus'])\n",
        "\n",
        "len(right_normal_list)\n",
        "\n",
        "#%%\n",
        "\n",
        "normal_list = left_normal_list\n",
        "normal_list.extend(right_normal_list)\n",
        "\n",
        "len(normal_list)\n",
        "\n",
        "#%% md **Diabetes**\n",
        "\n",
        "#%%\n",
        "\n",
        "diabetes_list = []\n",
        "\n",
        "for i, row in data_info.iterrows():\n",
        "    if row['D'] == 1:\n",
        "        diabetes_list.append(row['Left-Fundus'])\n",
        "        diabetes_list.append(row['Right-Fundus'])\n",
        "\n",
        "len(diabetes_list)\n",
        "\n",
        "#%% md **AMD**\n",
        "\n",
        "#%%\n",
        "\n",
        "AMD_list = []\n",
        "\n",
        "for i, row in data_info.iterrows():\n",
        "    if row['A'] == 1:\n",
        "        AMD_list.append(row['Left-Fundus'])\n",
        "        AMD_list.append(row['Right-Fundus'])\n",
        "\n",
        "len(AMD_list)\n",
        "\n",
        "#%% md **Glaucoma**\n",
        "\n",
        "#%%\n",
        "\n",
        "glaucoma_list = []\n",
        "\n",
        "for i, row in data_info.iterrows():\n",
        "    if row['G'] == 1:\n",
        "        glaucoma_list.append(row['Left-Fundus'])\n",
        "        glaucoma_list.append(row['Right-Fundus'])\n",
        "\n",
        "len(glaucoma_list)\n",
        "\n",
        "#%% md **Hyper tension**\n",
        "\n",
        "#%%\n",
        "\n",
        "hypertension_list = []\n",
        "\n",
        "for i, row in data_info.iterrows():\n",
        "    if row['H'] == 1:\n",
        "        hypertension_list.append(row['Left-Fundus'])\n",
        "        hypertension_list.append(row['Right-Fundus'])\n",
        "\n",
        "len(hypertension_list)\n",
        "\n",
        "#%% md **Pathological Myopia**\n",
        "\n",
        "#%%\n",
        "\n",
        "myopia_list = []\n",
        "\n",
        "for i, row in data_info.iterrows():\n",
        "    if row['M'] == 1:\n",
        "        myopia_list.append(row['Left-Fundus'])\n",
        "        myopia_list.append(row['Right-Fundus'])\n",
        "\n",
        "len(myopia_list)\n",
        "\n",
        "#%% md **Glaucoma**\n",
        "\n",
        "#%%\n",
        "\n",
        "other_list = []\n",
        "\n",
        "for i, row in data_info.iterrows():\n",
        "    if row['O'] == 1:\n",
        "        other_list.append(row['Left-Fundus'])\n",
        "        other_list.append(row['Right-Fundus'])\n",
        "\n",
        "len(other_list)\n",
        "\n",
        "#%%\n",
        "\n",
        "print(\"Normal fundus: {}\".format(len(normal_list)))\n",
        "print(\"Diabetic fundus: {}\".format(len(diabetes_list)))\n",
        "print(\"Cataract fundus: {}\".format(len(cataract_list)))\n",
        "print(\"Hypertension fundus: {}\".format(len(hypertension_list)))\n",
        "print(\"Glaucoma fundus: {}\".format(len(glaucoma_list)))\n",
        "print(\"Myopia fundus: {}\".format(len(myopia_list)))\n",
        "print(\"AMD fundus: {}\".format(len(AMD_list)))\n",
        "print(\"Other fundus: {}\".format(len(other_list)))\n"
      ],
      "execution_count": null,
      "outputs": [
        {
          "output_type": "stream",
          "text": [
            "Normal fundus: 5683\n",
            "Diabetic fundus: 4246\n",
            "Cataract fundus: 594\n",
            "Hypertension fundus: 406\n",
            "Glaucoma fundus: 794\n",
            "Myopia fundus: 612\n",
            "AMD fundus: 638\n",
            "Other fundus: 3176\n"
          ],
          "name": "stdout"
        }
      ]
    },
    {
      "cell_type": "markdown",
      "metadata": {
        "id": "bG7EoLdCv83u"
      },
      "source": [
        "**Copy images to their respective directories**"
      ]
    },
    {
      "cell_type": "markdown",
      "metadata": {
        "id": "NlLS9XUmwho5"
      },
      "source": [
        "Normal Fundus"
      ]
    },
    {
      "cell_type": "code",
      "metadata": {
        "colab": {
          "base_uri": "https://localhost:8080/",
          "height": 66,
          "referenced_widgets": [
            "d28bfb4b0a134909817e99115a210f50",
            "5930d2a0146f455d897f352cc3815d76",
            "3b170dc4e9974b1f89e50b7578c9fe46",
            "88eda7ae677f48d68373730ed244bdd0",
            "185b1b738d44463cbc529b0283c244fa",
            "f8f332f45d82404b80e9e01f90dff56f",
            "5cda0f01d90e4b08ad66c879f118fa4e",
            "ffe2ded09e164364bdef240c8b758af1"
          ]
        },
        "id": "W0pWRXWjwAOX",
        "outputId": "f6d778aa-1edd-4147-ad74-0c9272504901"
      },
      "source": [
        "# set the destination to be the class name of the image\n",
        "dest = '/content/gdrive/MyDrive/Kaggle/categorized_images/Normal'\n",
        "\n",
        "# copy the images of that class to that directory\n",
        "for image in tqdm(normal_list):\n",
        "    full_path = '/content/gdrive/MyDrive/Kaggle/images/' + image\n",
        "    try:\n",
        "        shutil.copy2(full_path, dest)\n",
        "    except Exception as err:\n",
        "        print(err)\n",
        "        continue"
      ],
      "execution_count": null,
      "outputs": [
        {
          "output_type": "display_data",
          "data": {
            "application/vnd.jupyter.widget-view+json": {
              "model_id": "d28bfb4b0a134909817e99115a210f50",
              "version_minor": 0,
              "version_major": 2
            },
            "text/plain": [
              "HBox(children=(FloatProgress(value=0.0, max=5683.0), HTML(value='')))"
            ]
          },
          "metadata": {
            "tags": []
          }
        },
        {
          "output_type": "stream",
          "text": [
            "\n"
          ],
          "name": "stdout"
        }
      ]
    },
    {
      "cell_type": "markdown",
      "metadata": {
        "id": "fsYgnrxLwjnH"
      },
      "source": [
        "Cataract Fundus"
      ]
    },
    {
      "cell_type": "code",
      "metadata": {
        "colab": {
          "base_uri": "https://localhost:8080/",
          "height": 66,
          "referenced_widgets": [
            "d5270b7d989144ad9270099220258458",
            "6eacc413c1584db19e130f1ad7ffda9c",
            "48cb15e403d542f8af7b0158861d243e",
            "686a4dc8e2a3470fbfce72e71a959100",
            "ef6ad890515e4ff3b07996ef5d728236",
            "4e433403631342babbe19ac045a823eb",
            "38df5d551b284031b387cc456ee1df4f",
            "be00b302fc8a446a8747d31f60a879ec"
          ]
        },
        "id": "IBWUwekdwnlQ",
        "outputId": "4304b274-9f75-46f4-ea90-b59e433ed29f"
      },
      "source": [
        "# set the destination to be the class name of the image\n",
        "dest = '/content/gdrive/MyDrive/Kaggle/categorized_images/Cataract'\n",
        "\n",
        "# copy the images of that class to that directory\n",
        "for image in tqdm(cataract_list):\n",
        "    full_path = '/content/gdrive/MyDrive/Kaggle/images/' + image\n",
        "    try:\n",
        "        shutil.copy2(full_path, dest)\n",
        "    except Exception as err:\n",
        "        print(err)\n",
        "        continue"
      ],
      "execution_count": null,
      "outputs": [
        {
          "output_type": "display_data",
          "data": {
            "application/vnd.jupyter.widget-view+json": {
              "model_id": "d5270b7d989144ad9270099220258458",
              "version_minor": 0,
              "version_major": 2
            },
            "text/plain": [
              "HBox(children=(FloatProgress(value=0.0, max=594.0), HTML(value='')))"
            ]
          },
          "metadata": {
            "tags": []
          }
        },
        {
          "output_type": "stream",
          "text": [
            "\n"
          ],
          "name": "stdout"
        }
      ]
    },
    {
      "cell_type": "markdown",
      "metadata": {
        "id": "h4CulH7Mwk4u"
      },
      "source": [
        "Myopic Fundus"
      ]
    },
    {
      "cell_type": "code",
      "metadata": {
        "colab": {
          "base_uri": "https://localhost:8080/",
          "height": 66,
          "referenced_widgets": [
            "2d55f3d63fef40b6a275ee833b96fd9d",
            "e8671c04fc414df3901ce8e4eb1ff1ea",
            "7630fd04f9b549daa099b5d29e8ef583",
            "0eea8d28dfd34c30a494220b96c32949",
            "faf4fe9f3b394fbdb90e14a834f305c2",
            "9fd9e9c98d644a4bba52457dbc3cb375",
            "9219b0a23a024ddb9fcfe8c6682cb1f2",
            "1635ebf3ce224165b36259447f4dec84"
          ]
        },
        "id": "LAYr-78Kw00f",
        "outputId": "aa0bd89f-03d5-4187-9587-fca4f19ddc6b"
      },
      "source": [
        "# set the destination to be the class name of the image\n",
        "dest = '/content/gdrive/MyDrive/Kaggle/categorized_images/Myopia'\n",
        "\n",
        "# copy the images of that class to that directory\n",
        "for image in tqdm(myopia_list):\n",
        "    full_path = '/content/gdrive/MyDrive/Kaggle/images/' + image\n",
        "    shutil.copy2(full_path, dest)"
      ],
      "execution_count": null,
      "outputs": [
        {
          "output_type": "display_data",
          "data": {
            "application/vnd.jupyter.widget-view+json": {
              "model_id": "2d55f3d63fef40b6a275ee833b96fd9d",
              "version_minor": 0,
              "version_major": 2
            },
            "text/plain": [
              "HBox(children=(FloatProgress(value=0.0, max=612.0), HTML(value='')))"
            ]
          },
          "metadata": {
            "tags": []
          }
        },
        {
          "output_type": "stream",
          "text": [
            "\n"
          ],
          "name": "stdout"
        }
      ]
    },
    {
      "cell_type": "markdown",
      "metadata": {
        "id": "VW1jAZB0xHkH"
      },
      "source": [
        "**Data Preparation**"
      ]
    },
    {
      "cell_type": "code",
      "metadata": {
        "id": "Po_SaZaMxL4Q"
      },
      "source": [
        "import tensorflow as tf \n",
        "\n",
        "# make a data generator that augments data so that the model's predictions can be better by using more amount of data\n",
        "datagen = tf.keras.preprocessing.image.ImageDataGenerator(\n",
        "    featurewise_center=False,\n",
        "    samplewise_center=False,\n",
        "    featurewise_std_normalization=False,\n",
        "    samplewise_std_normalization=False,\n",
        "    zca_whitening=False,\n",
        "    zca_epsilon=1e-06,\n",
        "    rotation_range=0,\n",
        "    width_shift_range=0.0,\n",
        "    height_shift_range=0.0,\n",
        "    brightness_range=None,\n",
        "    shear_range=0.0,\n",
        "    zoom_range=0.0,\n",
        "    channel_shift_range=0.0,\n",
        "    fill_mode=\"nearest\",\n",
        "    cval=0.0,\n",
        "    horizontal_flip=False,\n",
        "    vertical_flip=False,\n",
        "    preprocessing_function=None,\n",
        "    data_format=None,\n",
        "    validation_split=0.05,\n",
        "    dtype=None,\n",
        "    rescale = 1.0/255.0\n",
        "    # rescale = None\n",
        ")"
      ],
      "execution_count": null,
      "outputs": []
    },
    {
      "cell_type": "code",
      "metadata": {
        "colab": {
          "base_uri": "https://localhost:8080/"
        },
        "id": "7KXUAJoCxYZh",
        "outputId": "a6a1bcf5-4020-49ff-a9ed-fd1df925875f"
      },
      "source": [
        "# set the directory from where images are to be taked from\n",
        "dire = '/content/gdrive/MyDrive/Kaggle/categorized_images'\n",
        "\n",
        "# make the training set generator \n",
        "train_generator = datagen.flow_from_directory(\n",
        "    dire,\n",
        "    batch_size=32,\n",
        "    class_mode='categorical',                           \n",
        "    target_size=(224,224),\n",
        "    subset='training'\n",
        ")\n",
        "\n",
        "# make the test set generator \n",
        "test_generator = datagen.flow_from_directory(\n",
        "    dire,\n",
        "    batch_size=32,\n",
        "    class_mode='categorical',                           \n",
        "    target_size=(224,224),\n",
        "    subset='validation'\n",
        ")"
      ],
      "execution_count": null,
      "outputs": [
        {
          "output_type": "stream",
          "text": [
            "Found 3432 images belonging to 3 classes.\n",
            "Found 180 images belonging to 3 classes.\n"
          ],
          "name": "stdout"
        }
      ]
    },
    {
      "cell_type": "markdown",
      "metadata": {
        "id": "ZBqoXD56xsY-"
      },
      "source": [
        "**Model**"
      ]
    },
    {
      "cell_type": "code",
      "metadata": {
        "colab": {
          "base_uri": "https://localhost:8080/"
        },
        "id": "esclnncdxuCX",
        "outputId": "0645e7f4-d5db-4f70-ba62-0017e3604178"
      },
      "source": [
        "from keras.applications.resnet_v2 import ResNet152V2\n",
        "\n",
        "# import the base model from keras - ResNet152V2\n",
        "# the base model is using imagenet weights without top\n",
        "base = ResNet152V2(\n",
        "    weights = 'imagenet',\n",
        "    include_top = False, \n",
        "    input_shape = (224,224,3)\n",
        ")"
      ],
      "execution_count": null,
      "outputs": [
        {
          "output_type": "stream",
          "text": [
            "Downloading data from https://storage.googleapis.com/tensorflow/keras-applications/resnet/resnet152v2_weights_tf_dim_ordering_tf_kernels_notop.h5\n",
            "234553344/234545216 [==============================] - 8s 0us/step\n",
            "234561536/234545216 [==============================] - 8s 0us/step\n"
          ],
          "name": "stdout"
        }
      ]
    },
    {
      "cell_type": "code",
      "metadata": {
        "id": "Mf9ZoyUQx8w_"
      },
      "source": [
        "# freeze the base model\n",
        "\n",
        "for layer in base.layers:\n",
        "    layer.trainable = False"
      ],
      "execution_count": null,
      "outputs": []
    },
    {
      "cell_type": "code",
      "metadata": {
        "id": "o0HHfnJByBMP"
      },
      "source": [
        "from tensorflow.keras import Sequential\n",
        "from keras import layers\n",
        "from tensorflow.keras.layers import Flatten, Dense\n",
        "\n",
        "# Following is the Custom Architecture of the Model\n",
        "\n",
        "# initialize the keras sequential model\n",
        "model = Sequential()\n",
        "\n",
        "# add the base model i.e. ResNet152V2 to the sequential model\n",
        "model.add(base)\n",
        "\n",
        "# flatten the output of the base model\n",
        "model.add(Flatten())\n",
        "\n",
        "# add dense layers to the model with 512, 256 and 128 neurons\n",
        "# each dense layer followed by dropout layer to prevent overfitting\n",
        "\n",
        "model.add(Dense(512, activation='relu'))\n",
        "model.add(layers.Dropout(rate=0.5))\n",
        "\n",
        "model.add(Dense(256, activation='relu'))\n",
        "model.add(layers.Dropout(rate=0.3))\n",
        "\n",
        "model.add(Dense(128, activation='relu'))\n",
        "model.add(layers.Dropout(rate=0.1))\n",
        "\n",
        "# flatten the output of the dense layers\n",
        "\n",
        "model.add(Flatten())\n",
        "\n",
        "# the final layer consists of 3 neurons as there are 3 classes\n",
        "# activated by softmax function because of categorical nature\n",
        "\n",
        "model.add(Dense(3, activation=\"softmax\"))"
      ],
      "execution_count": null,
      "outputs": []
    },
    {
      "cell_type": "code",
      "metadata": {
        "colab": {
          "base_uri": "https://localhost:8080/"
        },
        "id": "9EZRI6-7y6iX",
        "outputId": "aba8e4db-3ed7-44cf-b0b6-4bf345910beb"
      },
      "source": [
        "# the model object\n",
        "\n",
        "model"
      ],
      "execution_count": null,
      "outputs": [
        {
          "output_type": "execute_result",
          "data": {
            "text/plain": [
              "<tensorflow.python.keras.engine.sequential.Sequential at 0x7f96f00f5e90>"
            ]
          },
          "metadata": {
            "tags": []
          },
          "execution_count": 33
        }
      ]
    },
    {
      "cell_type": "code",
      "metadata": {
        "id": "N4Bodoz_zF-O"
      },
      "source": [
        "from tensorflow import keras\n",
        "\n",
        "# compile the model so that it can be trained\n",
        "\n",
        "model.compile(optimizer=keras.optimizers.Adam(),\n",
        "              loss=keras.losses.CategoricalCrossentropy(from_logits=True),\n",
        "              metrics=[keras.metrics.CategoricalAccuracy()])"
      ],
      "execution_count": null,
      "outputs": []
    },
    {
      "cell_type": "code",
      "metadata": {
        "colab": {
          "base_uri": "https://localhost:8080/"
        },
        "id": "h7EyHpYFzOMl",
        "outputId": "972f0c83-0a16-4e6a-bb1b-cbc7b0e5b98d"
      },
      "source": [
        "# check the GPU\n",
        "\n",
        "!nvidia-smi"
      ],
      "execution_count": null,
      "outputs": [
        {
          "output_type": "stream",
          "text": [
            "Tue Jun  8 08:46:20 2021       \n",
            "+-----------------------------------------------------------------------------+\n",
            "| NVIDIA-SMI 465.27       Driver Version: 460.32.03    CUDA Version: 11.2     |\n",
            "|-------------------------------+----------------------+----------------------+\n",
            "| GPU  Name        Persistence-M| Bus-Id        Disp.A | Volatile Uncorr. ECC |\n",
            "| Fan  Temp  Perf  Pwr:Usage/Cap|         Memory-Usage | GPU-Util  Compute M. |\n",
            "|                               |                      |               MIG M. |\n",
            "|===============================+======================+======================|\n",
            "|   0  Tesla K80           Off  | 00000000:00:04.0 Off |                    0 |\n",
            "| N/A   73C    P0    73W / 149W |    632MiB / 11441MiB |      0%      Default |\n",
            "|                               |                      |                  N/A |\n",
            "+-------------------------------+----------------------+----------------------+\n",
            "                                                                               \n",
            "+-----------------------------------------------------------------------------+\n",
            "| Processes:                                                                  |\n",
            "|  GPU   GI   CI        PID   Type   Process name                  GPU Memory |\n",
            "|        ID   ID                                                   Usage      |\n",
            "|=============================================================================|\n",
            "+-----------------------------------------------------------------------------+\n"
          ],
          "name": "stdout"
        }
      ]
    },
    {
      "cell_type": "code",
      "metadata": {
        "colab": {
          "base_uri": "https://localhost:8080/"
        },
        "id": "PGofisOXzTGm",
        "outputId": "86246ecf-f1af-4366-bdc1-aaec83197cf1"
      },
      "source": [
        "from tensorflow import test\n",
        "\n",
        "# check if the GPU is mounted and ready for training\n",
        "test.is_gpu_available()"
      ],
      "execution_count": null,
      "outputs": [
        {
          "output_type": "stream",
          "text": [
            "WARNING:tensorflow:From <ipython-input-36-c09486a96143>:4: is_gpu_available (from tensorflow.python.framework.test_util) is deprecated and will be removed in a future version.\n",
            "Instructions for updating:\n",
            "Use `tf.config.list_physical_devices('GPU')` instead.\n"
          ],
          "name": "stdout"
        },
        {
          "output_type": "execute_result",
          "data": {
            "text/plain": [
              "True"
            ]
          },
          "metadata": {
            "tags": []
          },
          "execution_count": 36
        }
      ]
    },
    {
      "cell_type": "code",
      "metadata": {
        "colab": {
          "base_uri": "https://localhost:8080/"
        },
        "id": "Cfx-zWBvzcDO",
        "outputId": "b989d6bb-7db9-4059-fa55-5fc917ea78ae"
      },
      "source": [
        "from tensorflow.keras.callbacks import  EarlyStopping\n",
        "\n",
        "# Start the training of the model\n",
        "\n",
        "# define the stops so the model stops training if the accuracy or loss is becomes constant at any point\n",
        "stop_acc = EarlyStopping(monitor = \"categorical_accuracy\", min_delta = 0.0001, patience = 10, restore_best_weights = True, mode='auto')\n",
        "stop_loss = EarlyStopping(monitor = \"loss\", min_delta = 0.0001, patience = 10, restore_best_weights = True, mode='auto')\n",
        "stop_val_acc = EarlyStopping(monitor = \"val_categorical_accuracy\", min_delta = 0.0001, patience = 10, restore_best_weights = True, mode='auto')\n",
        "stop_val_loss = EarlyStopping(monitor = \"val_loss\", min_delta = 0.0001, patience = 10, restore_best_weights = True, mode='auto')\n",
        "\n",
        "history = model.fit(\n",
        "    train_generator,\n",
        "    batch_size = 32,\n",
        "    epochs = 50,\n",
        "    validation_data = test_generator,\n",
        "    callbacks = [stop_acc, stop_loss, stop_val_acc, stop_val_loss]\n",
        ")"
      ],
      "execution_count": null,
      "outputs": [
        {
          "output_type": "stream",
          "text": [
            "Epoch 1/50\n"
          ],
          "name": "stdout"
        },
        {
          "output_type": "stream",
          "text": [
            "/usr/local/lib/python3.7/dist-packages/tensorflow/python/keras/backend.py:4870: UserWarning: \"`categorical_crossentropy` received `from_logits=True`, but the `output` argument was produced by a sigmoid or softmax activation and thus does not represent logits. Was this intended?\"\n",
            "  '\"`categorical_crossentropy` received `from_logits=True`, but '\n"
          ],
          "name": "stderr"
        },
        {
          "output_type": "stream",
          "text": [
            "108/108 [==============================] - 244s 2s/step - loss: 3.6416 - categorical_accuracy: 0.8167 - val_loss: 1.7352 - val_categorical_accuracy: 0.8667\n",
            "Epoch 2/50\n",
            "108/108 [==============================] - 223s 2s/step - loss: 1.0374 - categorical_accuracy: 0.8753 - val_loss: 0.5881 - val_categorical_accuracy: 0.8833\n",
            "Epoch 3/50\n",
            "108/108 [==============================] - 227s 2s/step - loss: 0.5693 - categorical_accuracy: 0.8878 - val_loss: 0.4925 - val_categorical_accuracy: 0.8667\n",
            "Epoch 4/50\n",
            "108/108 [==============================] - 227s 2s/step - loss: 0.3587 - categorical_accuracy: 0.9111 - val_loss: 0.4474 - val_categorical_accuracy: 0.9056\n",
            "Epoch 5/50\n",
            "108/108 [==============================] - 227s 2s/step - loss: 0.2817 - categorical_accuracy: 0.9254 - val_loss: 0.4494 - val_categorical_accuracy: 0.8833\n",
            "Epoch 6/50\n",
            "108/108 [==============================] - 226s 2s/step - loss: 0.2687 - categorical_accuracy: 0.9248 - val_loss: 0.4084 - val_categorical_accuracy: 0.8889\n",
            "Epoch 7/50\n",
            "108/108 [==============================] - 225s 2s/step - loss: 0.2457 - categorical_accuracy: 0.9304 - val_loss: 0.4126 - val_categorical_accuracy: 0.8889\n",
            "Epoch 8/50\n",
            "108/108 [==============================] - 222s 2s/step - loss: 0.2018 - categorical_accuracy: 0.9400 - val_loss: 0.4175 - val_categorical_accuracy: 0.8833\n",
            "Epoch 9/50\n",
            "108/108 [==============================] - 223s 2s/step - loss: 0.2132 - categorical_accuracy: 0.9443 - val_loss: 0.4527 - val_categorical_accuracy: 0.8778\n",
            "Epoch 10/50\n",
            "108/108 [==============================] - 226s 2s/step - loss: 0.2136 - categorical_accuracy: 0.9382 - val_loss: 0.3853 - val_categorical_accuracy: 0.8889\n",
            "Epoch 11/50\n",
            "108/108 [==============================] - 227s 2s/step - loss: 0.1804 - categorical_accuracy: 0.9493 - val_loss: 0.3667 - val_categorical_accuracy: 0.8889\n",
            "Epoch 12/50\n",
            "108/108 [==============================] - 230s 2s/step - loss: 0.1518 - categorical_accuracy: 0.9528 - val_loss: 0.4334 - val_categorical_accuracy: 0.8778\n",
            "Epoch 13/50\n",
            "108/108 [==============================] - 230s 2s/step - loss: 0.1378 - categorical_accuracy: 0.9607 - val_loss: 0.4285 - val_categorical_accuracy: 0.8944\n",
            "Epoch 14/50\n",
            "108/108 [==============================] - 230s 2s/step - loss: 0.1496 - categorical_accuracy: 0.9572 - val_loss: 0.4300 - val_categorical_accuracy: 0.8889\n"
          ],
          "name": "stdout"
        }
      ]
    },
    {
      "cell_type": "markdown",
      "metadata": {
        "id": "xINnxAtg2hnm"
      },
      "source": [
        "**Model's Performance Statistics**"
      ]
    },
    {
      "cell_type": "markdown",
      "metadata": {
        "id": "kHrYH2_I2pr1"
      },
      "source": [
        "Accuracy"
      ]
    },
    {
      "cell_type": "code",
      "metadata": {
        "colab": {
          "base_uri": "https://localhost:8080/",
          "height": 295
        },
        "id": "l8HldDeY2kq1",
        "outputId": "d4444b2e-a24b-456b-d8e6-c2c7aabd3045"
      },
      "source": [
        "import matplotlib.pyplot as plt\n",
        "\n",
        "plt.plot(history.history['categorical_accuracy'])\n",
        "plt.plot(history.history['val_categorical_accuracy'])\n",
        "plt.legend(['train', 'test'], loc='upper left')\n",
        "plt.title('model accuracy')\n",
        "plt.ylabel('accuracy')\n",
        "plt.xlabel('epoch')\n",
        "plt.show()"
      ],
      "execution_count": null,
      "outputs": [
        {
          "output_type": "display_data",
          "data": {
            "image/png": "[encoded data removed]",
            "text/plain": [
              "<Figure size 432x288 with 1 Axes>"
            ]
          },
          "metadata": {
            "tags": [],
            "needs_background": "light"
          }
        }
      ]
    },
    {
      "cell_type": "markdown",
      "metadata": {
        "id": "n8We5lsA2qwl"
      },
      "source": [
        "Loss"
      ]
    },
    {
      "cell_type": "code",
      "metadata": {
        "colab": {
          "base_uri": "https://localhost:8080/",
          "height": 295
        },
        "id": "vNXq_QBc2nbg",
        "outputId": "c20bc3cd-4aae-4983-8d2d-2a31db213b3b"
      },
      "source": [
        "plt.plot(history.history['loss'])\n",
        "plt.plot(history.history['val_loss'])\n",
        "plt.legend(['train', 'test'], loc='upper left')\n",
        "plt.title('model loss')\n",
        "plt.ylabel('loss')\n",
        "plt.xlabel('epoch')\n",
        "plt.show()"
      ],
      "execution_count": null,
      "outputs": [
        {
          "output_type": "display_data",
          "data": {
            "image/png": "[encoded data removed]",
            "text/plain": [
              "<Figure size 432x288 with 1 Axes>"
            ]
          },
          "metadata": {
            "tags": [],
            "needs_background": "light"
          }
        }
      ]
    },
    {
      "cell_type": "markdown",
      "metadata": {
        "id": "M_NvbALnzvmA"
      },
      "source": [
        "**Fine-Tuning the Model**"
      ]
    },
    {
      "cell_type": "code",
      "metadata": {
        "id": "1URMXiDdz6Bm"
      },
      "source": [
        "# Unfreeze the base model\n",
        "\n",
        "base.trainable = True"
      ],
      "execution_count": null,
      "outputs": []
    },
    {
      "cell_type": "code",
      "metadata": {
        "id": "LD8IQGoqz9f1"
      },
      "source": [
        "from tensorflow import keras\n",
        "\n",
        "# recompile the model with lower learning rate to fine tine and increase accuracy\n",
        "\n",
        "model.compile(optimizer=keras.optimizers.Adam(1e-5),\n",
        "              loss=keras.losses.CategoricalCrossentropy(from_logits=True),\n",
        "              metrics=[keras.metrics.CategoricalAccuracy()])"
      ],
      "execution_count": null,
      "outputs": []
    },
    {
      "cell_type": "code",
      "metadata": {
        "colab": {
          "base_uri": "https://localhost:8080/"
        },
        "id": "LWpQJXRy0PUZ",
        "outputId": "7a794a27-313a-4be2-dce3-5f6dab5df1b9"
      },
      "source": [
        "# train the model again with lower learning rate and same stops/checkpoints\n",
        "\n",
        "history = model.fit(\n",
        "    train_generator,\n",
        "    batch_size = 32,\n",
        "    epochs = 30,\n",
        "    validation_data = test_generator,\n",
        "    callbacks = [stop_acc, stop_loss, stop_val_acc, stop_val_loss]\n",
        ")"
      ],
      "execution_count": null,
      "outputs": [
        {
          "output_type": "stream",
          "text": [
            "Epoch 1/30\n"
          ],
          "name": "stdout"
        },
        {
          "output_type": "stream",
          "text": [
            "/usr/local/lib/python3.7/dist-packages/tensorflow/python/keras/backend.py:4870: UserWarning: \"`categorical_crossentropy` received `from_logits=True`, but the `output` argument was produced by a sigmoid or softmax activation and thus does not represent logits. Was this intended?\"\n",
            "  '\"`categorical_crossentropy` received `from_logits=True`, but '\n"
          ],
          "name": "stderr"
        },
        {
          "output_type": "stream",
          "text": [
            "108/108 [==============================] - 307s 3s/step - loss: 0.5291 - categorical_accuracy: 0.8555 - val_loss: 0.4783 - val_categorical_accuracy: 0.8556\n",
            "Epoch 2/30\n",
            "108/108 [==============================] - 284s 3s/step - loss: 0.2486 - categorical_accuracy: 0.9260 - val_loss: 0.4424 - val_categorical_accuracy: 0.8722\n",
            "Epoch 3/30\n",
            "108/108 [==============================] - 285s 3s/step - loss: 0.1707 - categorical_accuracy: 0.9400 - val_loss: 0.4241 - val_categorical_accuracy: 0.8667\n",
            "Epoch 4/30\n",
            "108/108 [==============================] - 285s 3s/step - loss: 0.1373 - categorical_accuracy: 0.9531 - val_loss: 0.5218 - val_categorical_accuracy: 0.8889\n",
            "Epoch 5/30\n",
            "108/108 [==============================] - 285s 3s/step - loss: 0.1087 - categorical_accuracy: 0.9639 - val_loss: 0.5277 - val_categorical_accuracy: 0.8889\n",
            "Epoch 6/30\n",
            "108/108 [==============================] - 297s 3s/step - loss: 0.0890 - categorical_accuracy: 0.9685 - val_loss: 0.5464 - val_categorical_accuracy: 0.8833\n",
            "Epoch 7/30\n",
            "108/108 [==============================] - 285s 3s/step - loss: 0.0694 - categorical_accuracy: 0.9781 - val_loss: 0.6036 - val_categorical_accuracy: 0.8722\n",
            "Epoch 8/30\n",
            "108/108 [==============================] - 286s 3s/step - loss: 0.0657 - categorical_accuracy: 0.9796 - val_loss: 0.5788 - val_categorical_accuracy: 0.8722\n",
            "Epoch 9/30\n",
            "108/108 [==============================] - 287s 3s/step - loss: 0.0606 - categorical_accuracy: 0.9790 - val_loss: 0.6721 - val_categorical_accuracy: 0.8722\n",
            "Epoch 10/30\n",
            "108/108 [==============================] - 285s 3s/step - loss: 0.0435 - categorical_accuracy: 0.9837 - val_loss: 0.6814 - val_categorical_accuracy: 0.8778\n",
            "Epoch 11/30\n",
            "108/108 [==============================] - 286s 3s/step - loss: 0.0342 - categorical_accuracy: 0.9863 - val_loss: 0.8038 - val_categorical_accuracy: 0.8722\n",
            "Epoch 12/30\n",
            "108/108 [==============================] - 285s 3s/step - loss: 0.0359 - categorical_accuracy: 0.9860 - val_loss: 0.8363 - val_categorical_accuracy: 0.8778\n",
            "Epoch 13/30\n",
            "108/108 [==============================] - 280s 3s/step - loss: 0.0384 - categorical_accuracy: 0.9843 - val_loss: 0.8049 - val_categorical_accuracy: 0.8667\n"
          ],
          "name": "stdout"
        }
      ]
    },
    {
      "cell_type": "markdown",
      "metadata": {
        "id": "lKtEXNrRCtAN"
      },
      "source": [
        "Accuracy"
      ]
    },
    {
      "cell_type": "code",
      "metadata": {
        "colab": {
          "base_uri": "https://localhost:8080/",
          "height": 295
        },
        "id": "r8QOjocnCnNv",
        "outputId": "40e1d32b-5e2e-494e-cf34-dd5e77d6e335"
      },
      "source": [
        "plt.plot(history.history['categorical_accuracy'])\n",
        "plt.plot(history.history['val_categorical_accuracy'])\n",
        "plt.legend(['train', 'test'], loc='upper left')\n",
        "plt.title('model accuracy')\n",
        "plt.ylabel('accuracy')\n",
        "plt.xlabel('epoch')\n",
        "plt.show()"
      ],
      "execution_count": null,
      "outputs": [
        {
          "output_type": "display_data",
          "data": {
            "image/png": "[encoded data removed]",
            "text/plain": [
              "<Figure size 432x288 with 1 Axes>"
            ]
          },
          "metadata": {
            "tags": [],
            "needs_background": "light"
          }
        }
      ]
    },
    {
      "cell_type": "markdown",
      "metadata": {
        "id": "zXLKbJ1LCtzF"
      },
      "source": [
        "Loss"
      ]
    },
    {
      "cell_type": "code",
      "metadata": {
        "colab": {
          "base_uri": "https://localhost:8080/",
          "height": 295
        },
        "id": "jbBfkoSWCq0s",
        "outputId": "f4878027-ebf1-4481-d37e-b8abdf8eb2f2"
      },
      "source": [
        "plt.plot(history.history['loss'])\n",
        "plt.plot(history.history['val_loss'])\n",
        "plt.legend(['train', 'test'], loc='upper left')\n",
        "plt.title('model loss')\n",
        "plt.ylabel('loss')\n",
        "plt.xlabel('epoch')\n",
        "plt.show()"
      ],
      "execution_count": null,
      "outputs": [
        {
          "output_type": "display_data",
          "data": {
            "image/png": "[encoded data removed]",
            "text/plain": [
              "<Figure size 432x288 with 1 Axes>"
            ]
          },
          "metadata": {
            "tags": [],
            "needs_background": "light"
          }
        }
      ]
    },
    {
      "cell_type": "markdown",
      "metadata": {
        "id": "FD2q_wey0cx-"
      },
      "source": [
        "**Save the Model**"
      ]
    },
    {
      "cell_type": "code",
      "metadata": {
        "colab": {
          "base_uri": "https://localhost:8080/",
          "height": 35
        },
        "id": "ojz2tZD5Cyt1",
        "outputId": "7993f839-bde1-413f-a4d5-381276abcc9a"
      },
      "source": [
        "%pwd"
      ],
      "execution_count": null,
      "outputs": [
        {
          "output_type": "execute_result",
          "data": {
            "application/vnd.google.colaboratory.intrinsic+json": {
              "type": "string"
            },
            "text/plain": [
              "'/content/gdrive/MyDrive/Kaggle'"
            ]
          },
          "metadata": {
            "tags": []
          },
          "execution_count": 45
        }
      ]
    },
    {
      "cell_type": "code",
      "metadata": {
        "colab": {
          "base_uri": "https://localhost:8080/"
        },
        "id": "PkMVPrQr0cSV",
        "outputId": "7f435b46-cea2-4a47-bbfa-1417e9cd296a"
      },
      "source": [
        "model.save('/content/gdrive/MyDrive/Kaggle/model', save_format='H5')"
      ],
      "execution_count": null,
      "outputs": [
        {
          "output_type": "stream",
          "text": [
            "WARNING:absl:Found untraced functions such as dropout_layer_call_fn, dropout_layer_call_and_return_conditional_losses, dropout_1_layer_call_fn, dropout_1_layer_call_and_return_conditional_losses, dropout_2_layer_call_fn while saving (showing 5 of 15). These functions will not be directly callable after loading.\n",
            "/usr/local/lib/python3.7/dist-packages/keras/utils/generic_utils.py:497: CustomMaskWarning: Custom mask layers require a config and must override get_config. When loading, the custom mask layer must be passed to the custom_objects argument.\n",
            "  category=CustomMaskWarning)\n"
          ],
          "name": "stderr"
        },
        {
          "output_type": "stream",
          "text": [
            "INFO:tensorflow:Assets written to: /content/gdrive/MyDrive/Kaggle/model/assets\n"
          ],
          "name": "stdout"
        },
        {
          "output_type": "stream",
          "text": [
            "INFO:tensorflow:Assets written to: /content/gdrive/MyDrive/Kaggle/model/assets\n"
          ],
          "name": "stderr"
        }
      ]
    },
    {
      "cell_type": "markdown",
      "metadata": {
        "id": "syt9Uqi3HD_U"
      },
      "source": [
        "**Testing**"
      ]
    },
    {
      "cell_type": "markdown",
      "metadata": {
        "id": "bBl-J6rqMwL8"
      },
      "source": [
        "Image Loading"
      ]
    },
    {
      "cell_type": "code",
      "metadata": {
        "colab": {
          "base_uri": "https://localhost:8080/",
          "height": 248
        },
        "id": "4XBZp3epHFXE",
        "outputId": "06b50394-6f84-4a46-8df3-d9b166345a52"
      },
      "source": [
        "from keras.preprocessing.image import load_img\n",
        "\n",
        "# load the image to show here\n",
        "img = load_img('/content/gdrive/MyDrive/Kaggle/ODIR-5K/ODIR-5K/Training Images/1010_left.jpg')\n",
        "plt.imshow(img)\n",
        "plt.axis(\"off\")\n",
        "plt.show()"
      ],
      "execution_count": null,
      "outputs": [
        {
          "output_type": "display_data",
          "data": {
            "image/png": "[encoded data removed]",
            "text/plain": [
              "<Figure size 432x288 with 1 Axes>"
            ]
          },
          "metadata": {
            "tags": [],
            "needs_background": "light"
          }
        }
      ]
    },
    {
      "cell_type": "markdown",
      "metadata": {
        "id": "Xc_YP3EhMxV_"
      },
      "source": [
        "Image Preprocessing"
      ]
    },
    {
      "cell_type": "code",
      "metadata": {
        "id": "rkhzvitKMP0O"
      },
      "source": [
        "from keras.preprocessing.image import img_to_array\n",
        "\n",
        "# load image with target size\n",
        "processed_image = load_img('/content/gdrive/MyDrive/Kaggle/ODIR-5K/ODIR-5K/Training Images/1010_left.jpg', target_size=(224, 224))\n",
        "\n",
        "# convert image to array\n",
        "processed_image = img_to_array(processed_image)\n",
        "\n",
        "# normalize the image\n",
        "processed_image = processed_image / 255.0\n",
        "\n",
        "# reshape the image \n",
        "processed_image = processed_image.reshape((1, processed_image.shape[0], processed_image.shape[1], processed_image.shape[2]))\n",
        "# processed_image = keras_models.resnet_v2.preprocess_input(processed_image)\n",
        "      "
      ],
      "execution_count": null,
      "outputs": []
    },
    {
      "cell_type": "markdown",
      "metadata": {
        "id": "KQlQU2tkMz9W"
      },
      "source": [
        "Prediction"
      ]
    },
    {
      "cell_type": "code",
      "metadata": {
        "id": "oBkgVGX7M1Kn"
      },
      "source": [
        "import numpy as np\n",
        "\n",
        "# make the prediction from the model\n",
        "prediction = model.predict(processed_image)\n",
        "\n",
        "# get the index of the prediction \n",
        "# i.e. the index of the highest percentage\n",
        "index = int(np.argmax(prediction[0]))"
      ],
      "execution_count": null,
      "outputs": []
    },
    {
      "cell_type": "code",
      "metadata": {
        "id": "W8HZoljVNN0V"
      },
      "source": [
        "def get_analysis_label(label):\n",
        "    label = int(label)\n",
        "    if label == 0:\n",
        "        return 'Cataract'\n",
        "    elif label == 1:\n",
        "        return 'Myopia'\n",
        "    elif label == 2:\n",
        "        return 'Normal'\n",
        "    else:\n",
        "        return 'Undefined'"
      ],
      "execution_count": null,
      "outputs": []
    },
    {
      "cell_type": "code",
      "metadata": {
        "id": "lnoeM1LANVIS"
      },
      "source": [
        "# get the name of the index\n",
        "\n",
        "label = get_analysis_label(index)"
      ],
      "execution_count": null,
      "outputs": []
    },
    {
      "cell_type": "code",
      "metadata": {
        "colab": {
          "base_uri": "https://localhost:8080/"
        },
        "id": "UjqDqubLNdGM",
        "outputId": "98f7a128-bd0c-413d-8e86-50c73d7658a9"
      },
      "source": [
        "# Finally, print the result\n",
        "\n",
        "print(label)"
      ],
      "execution_count": null,
      "outputs": [
        {
          "output_type": "stream",
          "text": [
            "Normal\n"
          ],
          "name": "stdout"
        }
      ]
    }
  ]
}